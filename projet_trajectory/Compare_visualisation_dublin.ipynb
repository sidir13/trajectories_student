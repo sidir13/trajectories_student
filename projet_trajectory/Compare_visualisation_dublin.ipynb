{
 "cells": [
  {
   "cell_type": "code",
   "execution_count": null,
   "id": "50ca7de0",
   "metadata": {},
   "outputs": [
    {
     "name": "stderr",
     "output_type": "stream",
     "text": [
      "C:\\Users\\Stagiaire\\anaconda3\\Lib\\site-packages\\pandas\\core\\arrays\\masked.py:60: UserWarning: Pandas requires version '1.3.6' or newer of 'bottleneck' (version '1.3.5' currently installed).\n",
      "  from pandas.core import (\n"
     ]
    }
   ],
   "source": [
    "import pickle\n",
    "import warnings\n",
    "from datetime import datetime, timedelta\n",
    "import random\n",
    "import json\n",
    "\n",
    "import numpy as np\n",
    "import pandas as pd\n",
    "import matplotlib.pyplot as plt\n",
    "from tqdm.notebook import tqdm\n",
    "\n",
    "from sklearn.manifold import TSNE\n",
    "from sklearn.decomposition import PCA\n",
    "import umap\n",
    "import pacmap\n",
    "import Levenshtein\n",
    "\n",
    "from manage import jsonAttempts2data, jsonExercises2data\n",
    "from code2aes import Code2Aes\n",
    "from aes2vec import learnModel, inferVectors, read_corpus, data2cor\n"
   ]
  },
  {
   "cell_type": "markdown",
   "id": "5a9ebfae",
   "metadata": {},
   "source": [
    "In this notebook, we will compare the impact of PCA, t-SNE, and PaCMAP on dimensionality reduction.\n",
    "To do this, we will compute the similarity between all points in the original embedding, then compute the similarity in the reduced embeddings and calculate the difference. A lower score means a better representation"
   ]
  },
  {
   "cell_type": "markdown",
   "id": "d601d3ea",
   "metadata": {},
   "source": [
    "First, let's import some data (trajectories...)"
   ]
  },
  {
   "cell_type": "code",
   "execution_count": 2,
   "id": "edd9e7c1",
   "metadata": {},
   "outputs": [],
   "source": [
    "# # Importations des données\n",
    "# NC1014 = jsonAttempts2data('Datasets/NewCaledonia_1014.json')\n",
    "# NCExercises = jsonExercises2data('Datasets/NewCaledonia_exercises.json')\n",
    "# NC5690 = jsonAttempts2data('Datasets/NewCaledonia_5690.json')"
   ]
  },
  {
   "cell_type": "code",
   "execution_count": null,
   "id": "2a714ea2-5d89-43a5-95b8-8127a56d205b",
   "metadata": {},
   "outputs": [],
   "source": [
    "# Import the attemps' embedding and data\n",
    "with open(\"Datasets/Embedding/embedding_dublin.json\", \"r\") as f:\n",
    "    embedding_data = json.load(f)\n",
    "\n",
    "with open(\"Datasets/Embedding/embedding_correction_dublin.json\", \"r\") as f:\n",
    "    embedding_data_correction = json.load(f)\n",
    "\n",
    "with open(\"Datasets/Raw/DBExercises.json\", \"r\") as f:\n",
    "    DBExercises = json.load(f)\n",
    "\n",
    "chemin = \"Datasets/Raw/Dublin_42487.json\"\n",
    "with open(chemin, 'r') as fichier:\n",
    "    dublin_data = json.load(fichier)"
   ]
  },
  {
   "cell_type": "code",
   "execution_count": 4,
   "id": "d1262904-e7e0-40c6-b3f2-a42cccc5a4f0",
   "metadata": {},
   "outputs": [],
   "source": [
    "# Load data trajectories\n",
    "\n",
    "with open('Datasets\\data_visualisation_dublin_dublin.pkl', 'rb') as fichier:\n",
    "    data_visualisation = pickle.load(fichier)\n",
    "trajec_emb = data_visualisation[0]"
   ]
  },
  {
   "cell_type": "code",
   "execution_count": 6,
   "id": "4413ab38",
   "metadata": {},
   "outputs": [],
   "source": [
    "# similarity measure \n",
    "def cos2(x,y):\n",
    "    \"\"\"\n",
    "    Similarity measure\n",
    "    Return : float between 0 and 1\n",
    "    A value of 1 indicates that x and y are similar, while a value of 0 indicates that they are not.\n",
    "    \"\"\"\n",
    "    prod = np.dot(x,y)\n",
    "    norm1 =  np.linalg.norm(x)\n",
    "    norm2 =  np.linalg.norm(y)\n",
    "    cos2 = prod / (norm1 * norm2)\n",
    "    return cos2 ** 2"
   ]
  },
  {
   "cell_type": "code",
   "execution_count": 7,
   "id": "9a46c8e9",
   "metadata": {},
   "outputs": [],
   "source": [
    "def distance_embedding(trajec):\n",
    "    \"\"\"\n",
    "    Compute the similarity of every point with every other point.\n",
    "    Return: Dictionary where keys are exercises, and values are lists of lists of similarities.\n",
    "    The i-th list contains the similarity of point i with every other point\n",
    "    \"\"\"\n",
    "    score_emb = {}\n",
    "    for exercise in trajec:\n",
    "        score_emb[exercise] = []\n",
    "        embeddings = trajec[exercise]\n",
    "        for i in range(len(embeddings)-1):\n",
    "            embbeding_compared = embeddings[i]\n",
    "            compare = []\n",
    "            for j in range(i+1,len(embeddings)):\n",
    "                embbeding_compare = embeddings[j]\n",
    "                score = cos2(embbeding_compared,embbeding_compare)\n",
    "                compare.append(score)\n",
    "            score_emb[exercise].append(compare)\n",
    "    return score_emb"
   ]
  },
  {
   "cell_type": "markdown",
   "id": "9a4dbdb7",
   "metadata": {},
   "source": [
    "Let's get the reduced dimension of embedding with t-sne, pca and pacmap"
   ]
  },
  {
   "cell_type": "code",
   "execution_count": 8,
   "id": "b28cf3b9",
   "metadata": {},
   "outputs": [],
   "source": [
    "def get_reduced_data(trajec_emb):\n",
    "    warnings.filterwarnings('ignore')\n",
    "    trajectory_reduced = {\"t_sne\" : {}, \"PCA\" : {}, \"pacmap\" : {}}\n",
    "    for exo in tqdm(trajec_emb.keys()):\n",
    "        list_emb = trajec_emb[exo]\n",
    "        data_array = np.array(list_emb)\n",
    "        n_samples = data_array.shape[0]\n",
    "        perplexity = min(n_samples - 1, 30)\n",
    "        # Reduced data with TSNE\n",
    "        embedding_TSNE = TSNE(n_components=2, perplexity=perplexity, random_state=42)\n",
    "        X_TSNE = embedding_TSNE.fit_transform(data_array)\n",
    "        trajectory_reduced[\"t_sne\"][exo] = X_TSNE\n",
    "        # Reduced data with PCA\n",
    "        embedding_PCA = PCA(n_components=2, random_state=42)\n",
    "        X_PCA = embedding_PCA.fit_transform(data_array)\n",
    "        trajectory_reduced[\"PCA\"][exo] = X_PCA\n",
    "        # Reduced data with pacmap\n",
    "        embedding_pacmap = pacmap.PaCMAP(n_components=2, n_neighbors=perplexity, random_state=42)\n",
    "        X_pacmap = embedding_pacmap.fit_transform(data_array)\n",
    "        trajectory_reduced[\"pacmap\"][exo] = X_pacmap\n",
    "    return trajectory_reduced"
   ]
  },
  {
   "cell_type": "code",
   "execution_count": 9,
   "id": "e4147473",
   "metadata": {},
   "outputs": [],
   "source": [
    "def score(trajectory_reduced):\n",
    "    \"\"\"\n",
    "    Compute the score (cos²) between every points for each algo\n",
    "    \"\"\"\n",
    "    score_algo = {}\n",
    "    for algo in tqdm(trajectory_reduced):\n",
    "        trajec = trajectory_reduced[algo]\n",
    "        score_emb = distance_embedding(trajec)\n",
    "        score_algo[algo] = score_emb\n",
    "    return score_algo"
   ]
  },
  {
   "cell_type": "code",
   "execution_count": 10,
   "id": "fa82d4cf",
   "metadata": {},
   "outputs": [],
   "source": [
    "def compare_visu(score_method, score_embbeding):\n",
    "    score_compare = {}\n",
    "    for algo in score_method:\n",
    "        score_compare[algo] = {}\n",
    "        for exercise in score_embbeding:\n",
    "            score_emb = score_embbeding[exercise]\n",
    "            score_algo = score_method[algo][exercise]\n",
    "            score = 0\n",
    "            for i in range(len(score_emb)):\n",
    "                score_array = np.array(score_emb[i])\n",
    "                score_algo_array = np.array(score_algo[i])\n",
    "                score += sum(abs(score_array-score_algo_array))\n",
    "            score_compare[algo][exercise] = score\n",
    "    return score_compare"
   ]
  },
  {
   "cell_type": "markdown",
   "id": "f49740ff",
   "metadata": {},
   "source": [
    "Let's compute some random embedding for the baseline"
   ]
  },
  {
   "cell_type": "code",
   "execution_count": 11,
   "id": "f8d2b1ab",
   "metadata": {},
   "outputs": [],
   "source": [
    "# m for min and M for max\n",
    "m, M = 0,0\n",
    "for exercise in trajec_emb:\n",
    "        for i in range(len(trajec_emb[exercise])):\n",
    "            m = min(m,min(trajec_emb[exercise][i]))\n",
    "            M = max(M,max(trajec_emb[exercise][i]))"
   ]
  },
  {
   "cell_type": "code",
   "execution_count": null,
   "id": "66ab4b30-5ba2-42f9-a5c1-2828ad7dde4e",
   "metadata": {},
   "outputs": [],
   "source": [
    "trajec_less_2 = []\n",
    "for exercise in trajec_emb:\n",
    "    if len(trajec_emb[exercise]) == 2:\n",
    "        trajec_less_2.append(exercise)\n",
    "\n",
    "for exercise in trajec_less_2:\n",
    "    del trajec_emb[exercise]"
   ]
  },
  {
   "cell_type": "code",
   "execution_count": 16,
   "id": "c825e25b",
   "metadata": {},
   "outputs": [
    {
     "data": {
      "application/vnd.jupyter.widget-view+json": {
       "model_id": "6784b43bbf7a448d9babf020a708ed88",
       "version_major": 2,
       "version_minor": 0
      },
      "text/plain": [
       "  0%|          | 0/114 [00:00<?, ?it/s]"
      ]
     },
     "metadata": {},
     "output_type": "display_data"
    }
   ],
   "source": [
    "# Create random embedding\n",
    "random_embedding = {}\n",
    "for exercise in tqdm(trajec_emb):\n",
    "    random_embedding[exercise] = {}\n",
    "    random_embedding[exercise] = []\n",
    "    for i in range(len(trajec_emb[exercise])):\n",
    "        random_values = [random.uniform(m, M) for _ in range(100)]\n",
    "        random_embedding[exercise].append(random_values)"
   ]
  },
  {
   "cell_type": "code",
   "execution_count": 15,
   "id": "0667953e",
   "metadata": {},
   "outputs": [
    {
     "name": "stdout",
     "output_type": "stream",
     "text": [
      "score_emb ok\n"
     ]
    },
    {
     "data": {
      "application/vnd.jupyter.widget-view+json": {
       "model_id": "e63a7ff35f9c4500ae2ca9ceeb88a8a1",
       "version_major": 2,
       "version_minor": 0
      },
      "text/plain": [
       "  0%|          | 0/114 [00:00<?, ?it/s]"
      ]
     },
     "metadata": {},
     "output_type": "display_data"
    },
    {
     "name": "stderr",
     "output_type": "stream",
     "text": [
      "  File \"C:\\Users\\Stagiaire\\anaconda3\\Lib\\site-packages\\joblib\\externals\\loky\\backend\\context.py\", line 217, in _count_physical_cores\n",
      "    raise ValueError(\n"
     ]
    },
    {
     "name": "stdout",
     "output_type": "stream",
     "text": [
      "trajectory_reduced ok\n"
     ]
    },
    {
     "data": {
      "application/vnd.jupyter.widget-view+json": {
       "model_id": "fb6320679053486abdeddc8046b2f0c3",
       "version_major": 2,
       "version_minor": 0
      },
      "text/plain": [
       "  0%|          | 0/3 [00:00<?, ?it/s]"
      ]
     },
     "metadata": {},
     "output_type": "display_data"
    },
    {
     "name": "stdout",
     "output_type": "stream",
     "text": [
      "score_algo ok\n"
     ]
    }
   ],
   "source": [
    "score_emb = distance_embedding(trajec_emb)\n",
    "trajectory_reduced = get_reduced_data(trajec_emb)\n",
    "score_algo = score(trajectory_reduced)\n",
    "score_compare = compare_visu(score_algo, score_emb)"
   ]
  },
  {
   "cell_type": "code",
   "execution_count": 20,
   "id": "c0a88f8c",
   "metadata": {},
   "outputs": [
    {
     "data": {
      "application/vnd.jupyter.widget-view+json": {
       "model_id": "07578ce944294fe8819b009a2aed23a8",
       "version_major": 2,
       "version_minor": 0
      },
      "text/plain": [
       "  0%|          | 0/114 [00:00<?, ?it/s]"
      ]
     },
     "metadata": {},
     "output_type": "display_data"
    },
    {
     "data": {
      "application/vnd.jupyter.widget-view+json": {
       "model_id": "30bcb591e5d747d0841b6baed50e8803",
       "version_major": 2,
       "version_minor": 0
      },
      "text/plain": [
       "  0%|          | 0/3 [00:00<?, ?it/s]"
      ]
     },
     "metadata": {},
     "output_type": "display_data"
    }
   ],
   "source": [
    "score_emb_random = distance_embedding(random_embedding)\n",
    "trajectory_reduced_random = get_reduced_data(random_embedding)\n",
    "score_algo = score(trajectory_reduced_random)\n",
    "score_compare_random = compare_visu(score_algo, score_emb_random)"
   ]
  },
  {
   "cell_type": "code",
   "execution_count": 21,
   "id": "80f55bd8",
   "metadata": {},
   "outputs": [
    {
     "name": "stdout",
     "output_type": "stream",
     "text": [
      "Using real data, we get : \n",
      "\n",
      "\n",
      "t_sne got a mean score of 42480.36378040209\n",
      "PCA got a mean score of 39050.16639876436\n",
      "pacmap got a mean score of 46024.04249140676\n"
     ]
    }
   ],
   "source": [
    "print(\"Using real data, we get : \")\n",
    "print(\"\\n\")\n",
    "for algo in score_compare:\n",
    "    score = score_compare[algo]\n",
    "    mean = np.mean(list(score.values()))\n",
    "    print(f\"{algo} got a mean score of {mean}\")"
   ]
  },
  {
   "cell_type": "code",
   "execution_count": 22,
   "id": "efd9d941",
   "metadata": {},
   "outputs": [
    {
     "name": "stdout",
     "output_type": "stream",
     "text": [
      "Using random data we get: \n",
      "\n",
      "\n",
      "t_sne got a mean score of 53562.3003233795\n",
      "PCA got a mean score of 53570.41282718403\n",
      "pacmap got a mean score of 53550.39569684557\n"
     ]
    }
   ],
   "source": [
    "print(\"Using random data we get: \")\n",
    "print(\"\\n\")\n",
    "for algo in score_compare_random:\n",
    "    score = score_compare_random[algo]\n",
    "    mean = np.mean(list(score.values()))\n",
    "    print(f\"{algo} got a mean score of {mean}\")"
   ]
  },
  {
   "cell_type": "markdown",
   "id": "d50e74da",
   "metadata": {},
   "source": [
    "Let's compare t-sne, pacmap and PCA using the source code"
   ]
  },
  {
   "cell_type": "code",
   "execution_count": 23,
   "id": "72b68866",
   "metadata": {},
   "outputs": [],
   "source": [
    "def euclidean_distance(x, y):\n",
    "    return np.sqrt((x[0] - y[0]) ** 2 + (x[1] - y[1]) ** 2)"
   ]
  },
  {
   "cell_type": "code",
   "execution_count": 24,
   "id": "44be5576",
   "metadata": {},
   "outputs": [],
   "source": [
    "def closest_point(trajectory_reduced, algo1, algo2):\n",
    "    \"\"\"\n",
    "    trajectory_reduced : dict\n",
    "    algo1, algo2  : str\n",
    "    return dict\n",
    "    \"\"\"\n",
    "    closest_point_algo1 = {}\n",
    "    closest_point_algo2 = {}\n",
    "\n",
    "    for exo in tqdm(trajectory_reduced[algo1]):\n",
    "        if exo not in closest_point_algo1:\n",
    "            closest_point_algo2[exo] = {}\n",
    "            closest_point_algo1[exo] = {}\n",
    "        coord_algo2 = trajectory_reduced[algo2][exo]\n",
    "        coord_algo1 = trajectory_reduced[algo1][exo]\n",
    "        for i, coord_t in enumerate(coord_algo2):\n",
    "            coord_p = coord_algo1[i]\n",
    "            if i not in closest_point_algo1[exo]:\n",
    "                closest_point_algo1[exo][i] = []\n",
    "                closest_point_algo2[exo][i] = []\n",
    "            for j in range(len(coord_algo2)):\n",
    "                    coord_algo1_compare = coord_algo1[j]\n",
    "                    coord_algo2_compare = coord_algo2[j]\n",
    "                    dist_algo1 = euclidean_distance(coord_p,coord_algo1_compare)\n",
    "                    dist_algo2 = euclidean_distance(coord_t,coord_algo2_compare)\n",
    "                    closest_point_algo1[exo][i].append(dist_algo1)\n",
    "                    closest_point_algo2[exo][i].append(dist_algo2)\n",
    "    return closest_point_algo1, closest_point_algo2"
   ]
  },
  {
   "cell_type": "code",
   "execution_count": 25,
   "id": "2f2d04ea",
   "metadata": {},
   "outputs": [],
   "source": [
    "def closet_point_lev(trajectory_reduced, data_visualisation):\n",
    "    source_code = data_visualisation[4]\n",
    "    closest_point_lev = {}\n",
    "    for exo in tqdm(trajectory_reduced[\"PCA\"]):\n",
    "        if exo not in closest_point_lev:\n",
    "            closest_point_lev[exo] = {}\n",
    "        codes = source_code[exo]\n",
    "        for i, code in enumerate(codes):\n",
    "            if i not in closest_point_lev[exo]:\n",
    "                closest_point_lev[exo][i] = []\n",
    "                for j in range(len(codes)):\n",
    "                    code_compare = codes[j]\n",
    "                    dis_lev = Levenshtein.distance(code, code_compare)\n",
    "                    closest_point_lev[exo][i].append(dis_lev)\n",
    "    return closest_point_lev"
   ]
  },
  {
   "cell_type": "code",
   "execution_count": 26,
   "id": "12cf3c60",
   "metadata": {},
   "outputs": [],
   "source": [
    "def define_closest_point(closest_point):\n",
    "    closest_point_index = {}\n",
    "    for exo in closest_point:\n",
    "        closest_point_index[exo] = {}\n",
    "        for index_tentative in closest_point[exo]:\n",
    "            list_distance = closest_point[exo][index_tentative]\n",
    "            closet_point = [i for i in range(len(list_distance))]\n",
    "            paired_lists = list(zip(list_distance, closet_point))\n",
    "            paired_lists_sorted = sorted(paired_lists, key=lambda x: x[0])\n",
    "            sorted_distances, sorted_closet_points = zip(*paired_lists_sorted)\n",
    "            sorted_distances = list(sorted_distances)\n",
    "            sorted_closet_points = list(sorted_closet_points)\n",
    "            closest_point_index[exo][index_tentative] = sorted_closet_points\n",
    "    return closest_point_index"
   ]
  },
  {
   "cell_type": "code",
   "execution_count": 27,
   "id": "fe194d32",
   "metadata": {},
   "outputs": [],
   "source": [
    "def count_permutations(reference_list, target_list):\n",
    "    index_map = {value: idx for idx, value in enumerate(reference_list)}\n",
    "    \n",
    "    visited = [False] * len(target_list)\n",
    "    swaps = 0\n",
    "    \n",
    "    for i in range(len(target_list)):\n",
    "        if visited[i] or index_map[target_list[i]] == i:\n",
    "            # If already visited or in the correct position, skip\n",
    "            continue\n",
    "        \n",
    "        # Start of a new cycle\n",
    "        cycle_size = 0\n",
    "        j = i\n",
    "        \n",
    "        while not visited[j]:\n",
    "            visited[j] = True\n",
    "            j = index_map[target_list[j]]\n",
    "            cycle_size += 1\n",
    "        \n",
    "        # Each cycle of size n requires n-1 swaps\n",
    "        if cycle_size > 0:\n",
    "            swaps += (cycle_size - 1)\n",
    "    \n",
    "    return swaps"
   ]
  },
  {
   "cell_type": "code",
   "execution_count": 28,
   "id": "5d22bdd8",
   "metadata": {},
   "outputs": [],
   "source": [
    "def permuation_algo(closest_point_pca, closest_point_tsne, closest_point_lev):\n",
    "    permu_pca = {}\n",
    "    permu_tsne = {}\n",
    "    for exo in closest_point_lev:\n",
    "        permu_tsne[exo] = 0\n",
    "        permu_pca[exo] = 0\n",
    "        for i in closest_point_pca[exo]:\n",
    "            reference_list = closest_point_lev[exo][i]\n",
    "            list_tsne = closest_point_tsne[exo][i]\n",
    "            list_acp = closest_point_pca[exo][i]\n",
    "            num_perm_pca = count_permutations(reference_list, list_acp)\n",
    "            num_perm_tsne = count_permutations(reference_list, list_tsne)\n",
    "            permu_tsne[exo] += num_perm_tsne\n",
    "            permu_pca[exo] += num_perm_pca\n",
    "    return permu_tsne, permu_pca"
   ]
  },
  {
   "cell_type": "code",
   "execution_count": 29,
   "id": "8ab38736",
   "metadata": {},
   "outputs": [
    {
     "data": {
      "application/vnd.jupyter.widget-view+json": {
       "model_id": "d2592ba99a3d483b931e56e3435fda15",
       "version_major": 2,
       "version_minor": 0
      },
      "text/plain": [
       "  0%|          | 0/114 [00:00<?, ?it/s]"
      ]
     },
     "metadata": {},
     "output_type": "display_data"
    },
    {
     "data": {
      "application/vnd.jupyter.widget-view+json": {
       "model_id": "f98708e20d9745c898646ee0646d303a",
       "version_major": 2,
       "version_minor": 0
      },
      "text/plain": [
       "  0%|          | 0/114 [00:00<?, ?it/s]"
      ]
     },
     "metadata": {},
     "output_type": "display_data"
    }
   ],
   "source": [
    "closest_point_pca, closest_point_tsne = closest_point(trajectory_reduced, \"PCA\", \"t_sne\")\n",
    "closest_point_lev = closet_point_lev(trajectory_reduced, data_visualisation)\n",
    "\n",
    "closest_point_pca = define_closest_point(closest_point_pca)\n",
    "closest_point_tsne = define_closest_point(closest_point_tsne)\n",
    "closest_point_lev = define_closest_point(closest_point_lev)\n",
    "\n",
    "\n",
    "permu_tsne, permu_pca = permuation_algo(closest_point_pca, closest_point_tsne, closest_point_lev)"
   ]
  },
  {
   "cell_type": "code",
   "execution_count": 30,
   "id": "401c3598",
   "metadata": {},
   "outputs": [
    {
     "name": "stdout",
     "output_type": "stream",
     "text": [
      "On average, we got 215483 permutations for tsne agaisnt 215535 for pca\n"
     ]
    }
   ],
   "source": [
    "mean_value_t = np.mean(list(permu_tsne.values()))\n",
    "mean_value_a = np.mean(list(permu_pca.values()))\n",
    "print(f\"On average, we got {int(mean_value_t)} permutations for tsne agaisnt {int(mean_value_a)} for pca\")"
   ]
  },
  {
   "cell_type": "code",
   "execution_count": 31,
   "id": "e0b430e2",
   "metadata": {},
   "outputs": [
    {
     "data": {
      "application/vnd.jupyter.widget-view+json": {
       "model_id": "855c2d344f984789a821b7ff67cec1ec",
       "version_major": 2,
       "version_minor": 0
      },
      "text/plain": [
       "  0%|          | 0/114 [00:00<?, ?it/s]"
      ]
     },
     "metadata": {},
     "output_type": "display_data"
    }
   ],
   "source": [
    "closest_point_pca, closest_point_pacmap = closest_point(trajectory_reduced, \"PCA\", \"pacmap\")\n",
    "\n",
    "closest_point_pca = define_closest_point(closest_point_pca)\n",
    "closest_point_pacmap = define_closest_point(closest_point_tsne)\n",
    "\n",
    "permu_pacmap, permu_pca = permuation_algo(closest_point_pca, closest_point_pacmap, closest_point_lev)"
   ]
  },
  {
   "cell_type": "code",
   "execution_count": 32,
   "id": "17b8ebd4",
   "metadata": {
    "jupyter": {
     "source_hidden": true
    }
   },
   "outputs": [
    {
     "name": "stdout",
     "output_type": "stream",
     "text": [
      "On average, we got 216109 permutations for pacmap agaisnt 215535 for pca\n"
     ]
    }
   ],
   "source": [
    "mean_value_t = np.mean(list(permu_pacmap.values()))\n",
    "mean_value_a = np.mean(list(permu_pca.values()))\n",
    "print(f\"On average, we got {int(mean_value_t)} permutations for pacmap agaisnt {int(mean_value_a)} for pca\")"
   ]
  },
  {
   "cell_type": "code",
   "execution_count": 33,
   "id": "4908ab80",
   "metadata": {},
   "outputs": [
    {
     "data": {
      "application/vnd.jupyter.widget-view+json": {
       "model_id": "9f12cfe4b5ce47a29a3824944e0c906c",
       "version_major": 2,
       "version_minor": 0
      },
      "text/plain": [
       "  0%|          | 0/114 [00:00<?, ?it/s]"
      ]
     },
     "metadata": {},
     "output_type": "display_data"
    }
   ],
   "source": [
    "closest_point_tsne, closest_point_pacmap = closest_point(trajectory_reduced, \"t_sne\", \"pacmap\")\n",
    "\n",
    "closest_point_tsne = define_closest_point(closest_point_tsne)\n",
    "closest_point_pacmap = define_closest_point(closest_point_tsne)\n",
    "\n",
    "permu_pacmap, permu_tsne = permuation_algo(closest_point_tsne, closest_point_pacmap, closest_point_lev)"
   ]
  },
  {
   "cell_type": "code",
   "execution_count": 34,
   "id": "b602342b",
   "metadata": {},
   "outputs": [
    {
     "name": "stdout",
     "output_type": "stream",
     "text": [
      "On average, we got 216109 permutations for pacmap agaisnt 215483 for tsne\n"
     ]
    }
   ],
   "source": [
    "mean_value_t = np.mean(list(permu_pacmap.values()))\n",
    "mean_value_a = np.mean(list(permu_tsne.values()))\n",
    "print(f\"On average, we got {int(mean_value_t)} permutations for pacmap agaisnt {int(mean_value_a)} for tsne\")"
   ]
  }
 ],
 "metadata": {
  "kernelspec": {
   "display_name": "Python 3 (ipykernel)",
   "language": "python",
   "name": "python3"
  },
  "language_info": {
   "codemirror_mode": {
    "name": "ipython",
    "version": 3
   },
   "file_extension": ".py",
   "mimetype": "text/x-python",
   "name": "python",
   "nbconvert_exporter": "python",
   "pygments_lexer": "ipython3",
   "version": "3.11.5"
  }
 },
 "nbformat": 4,
 "nbformat_minor": 5
}
