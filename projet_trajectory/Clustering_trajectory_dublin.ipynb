{
 "cells": [
  {
   "cell_type": "code",
   "execution_count": 2,
   "id": "2e5b8c75",
   "metadata": {},
   "outputs": [
    {
     "name": "stderr",
     "output_type": "stream",
     "text": [
      "C:\\Users\\Stagiaire\\anaconda3\\Lib\\site-packages\\pandas\\core\\arrays\\masked.py:60: UserWarning: Pandas requires version '1.3.6' or newer of 'bottleneck' (version '1.3.5' currently installed).\n",
      "  from pandas.core import (\n"
     ]
    }
   ],
   "source": [
    "import pickle\n",
    "from datetime import datetime, timedelta\n",
    "import json\n",
    "import random\n",
    "import time\n",
    "\n",
    "import numpy as np\n",
    "import pandas as pd\n",
    "import matplotlib.pyplot as plt\n",
    "from tqdm.notebook import tqdm\n",
    "\n",
    "from sklearn.metrics import silhouette_score, calinski_harabasz_score, davies_bouldin_score, adjusted_rand_score\n",
    "from sklearn.decomposition import PCA\n",
    "\n",
    "from tslearn.metrics import cdist_dtw\n",
    "from tslearn.clustering import TimeSeriesKMeans\n",
    "\n",
    "from manage import jsonAttempts2data, jsonExercises2data\n",
    "from code2aes import Code2Aes\n",
    "from aes2vec import learnModel, inferVectors, read_corpus, data2cor\n"
   ]
  },
  {
   "cell_type": "markdown",
   "id": "fec154be",
   "metadata": {},
   "source": [
    "# Importation of data"
   ]
  },
  {
   "cell_type": "code",
   "execution_count": 3,
   "id": "d13b7978-5fe6-4ece-95d4-f875661bb0cc",
   "metadata": {},
   "outputs": [],
   "source": [
    "# Import the attemps' embedding and data\n",
    "with open(\"Datasets/Embedding/embedding_dublin.json\", \"r\") as f:\n",
    "    embedding_data = json.load(f)\n",
    "\n",
    "with open(\"Datasets/Embedding/embedding_correction_dublin.json\", \"r\") as f:\n",
    "    embedding_data_correction = json.load(f)\n",
    "\n",
    "with open(\"Datasets/Raw/DBExercises.json\", \"r\") as f:\n",
    "    DBExercises = json.load(f)\n",
    "\n",
    "chemin = \"Datasets/Raw/Dublin_42487.json\"\n",
    "with open(chemin, 'r') as fichier:\n",
    "    dublin_data = json.load(fichier)"
   ]
  },
  {
   "cell_type": "code",
   "execution_count": 4,
   "id": "b9aa082d",
   "metadata": {},
   "outputs": [],
   "source": [
    "# Dictionary that maps the encoded exercise to its real name\n",
    "exercice_name_dict = {}\n",
    "list_exo = list(DBExercises.values())\n",
    "for exo in list_exo:\n",
    "    # key : encoded name, value : real name of exercise\n",
    "    exercice_name_dict[exo[\"exo_name\"]] = exo[\"funcname\"] \n",
    "list_exo = list(set(exercice_name_dict.values()))"
   ]
  },
  {
   "cell_type": "code",
   "execution_count": 5,
   "id": "41b8de82-0273-4f25-b832-e6f61a7c58d6",
   "metadata": {},
   "outputs": [],
   "source": [
    "# We take a percentage of the total data\n",
    "percentage = 0.2\n",
    "n = int(len(dublin_data) * percentage)\n",
    "random_index = random.sample(range(len(dublin_data)), n)\n",
    "dublin_data_sampled = [dublin_data[i] for i in random_index]\n",
    "embedding_data_sampled = [embedding_data[i] for i in random_index]"
   ]
  },
  {
   "cell_type": "code",
   "execution_count": 6,
   "id": "13fa7785-e52a-4cfd-bc4b-b76bcea70354",
   "metadata": {},
   "outputs": [
    {
     "name": "stdout",
     "output_type": "stream",
     "text": [
      "We've got 8497 attempts\n"
     ]
    }
   ],
   "source": [
    "print(f\"We've got {len(embedding_data_sampled)} attempts\")"
   ]
  },
  {
   "cell_type": "code",
   "execution_count": 8,
   "id": "b953b285-26d0-45a5-aae8-2ca071abd5c2",
   "metadata": {},
   "outputs": [],
   "source": [
    "# Count the number of attempts per exercise\n",
    "repartition_exercise = {}\n",
    "for attempts in dublin_data_sampled:\n",
    "    if attempts[\"exercise_name\"] not in repartition_exercise :\n",
    "       repartition_exercise[attempts[\"exercise_name\"]] = 1\n",
    "    else:\n",
    "        repartition_exercise[attempts[\"exercise_name\"]] += 1"
   ]
  },
  {
   "cell_type": "code",
   "execution_count": 9,
   "id": "579dc4d5-59ae-47c6-842f-f31f3672351c",
   "metadata": {},
   "outputs": [],
   "source": [
    "# Delete exercises with fewer than 2 attempts (not enough data for clustering)\n",
    "under_2_attempts = []\n",
    "for exercise in repartition_exercise:\n",
    "    if repartition_exercise[exercise] <= 2:\n",
    "        under_2_attempts.append(exercise)\n",
    "\n",
    "for i, attempts in enumerate(dublin_data_sampled):\n",
    "    if attempts[\"exercise_name\"] in under_2_attempts:\n",
    "        dublin_data_sampled.pop(i)\n",
    "        embedding_data_sampled.pop(i)"
   ]
  },
  {
   "cell_type": "code",
   "execution_count": 10,
   "id": "38c6d968-15a0-4941-8da0-391013f98b98",
   "metadata": {},
   "outputs": [],
   "source": [
    "# Create a list with the names of all exercises\n",
    "all_exercise = list(DBExercises.keys())"
   ]
  },
  {
   "cell_type": "code",
   "execution_count": 11,
   "id": "cf690d33-8ae0-48cd-a683-7c987db7aa91",
   "metadata": {},
   "outputs": [],
   "source": [
    "# Delete exercises with fewer than 2 attempts\n",
    "for exercise in all_exercise:\n",
    "    if exercise in under_2_attempts:\n",
    "        del DBExercises[exercise]"
   ]
  },
  {
   "cell_type": "markdown",
   "id": "48a2b937",
   "metadata": {},
   "source": [
    "# Construction of trajectory"
   ]
  },
  {
   "cell_type": "code",
   "execution_count": 12,
   "id": "29f94a30",
   "metadata": {},
   "outputs": [],
   "source": [
    "def trajectory_construction_embedding(data, embedding_data, encoded = True, encoder_dictionnary = exercice_name_dict):\n",
    "    \"\"\" \n",
    "    Create a dictionary containing all trajectories for each exercise.\n",
    "    The other dictionary has the same structure, but instead of embeddings, it contains the timestamps of the attempts\n",
    "\n",
    "    - data: A dictionary containing all attempts and their characteristics.\n",
    "    - embedding_data: A list of embeddings for each attempt, in the same order as in the data.\n",
    "\n",
    "    \"\"\"\n",
    "    \n",
    "    # Initialisation of the dictionnaries\n",
    "    trajec_emb = {}\n",
    "    trajec_emb_date = {}\n",
    "    # For every attemp,\n",
    "    for i, attemps in enumerate(data):\n",
    "        # Check if the exercise name is encoded in our data\n",
    "        if encoded:\n",
    "            exo_encoded = attemps[\"exercise_name\"]\n",
    "            exercise = exercice_name_dict[exo_encoded]\n",
    "        else:\n",
    "            exercise = attemps[\"exercise_name\"]\n",
    "        student = attemps[\"user\"]\n",
    "        date = attemps[\"date\"]\n",
    "        if exercise not in trajec_emb:\n",
    "            trajec_emb[exercise] = {}\n",
    "            trajec_emb_date[exercise] = {}\n",
    "        if student not in trajec_emb[exercise]:\n",
    "            trajec_emb[exercise][student] = []\n",
    "            trajec_emb_date[exercise][student] = []\n",
    "        # Creat the trajectory\n",
    "        trajec_emb[exercise][student].append(embedding_data[i])\n",
    "        trajec_emb_date[exercise][student].append(date)\n",
    "    return trajec_emb, trajec_emb_date"
   ]
  },
  {
   "cell_type": "code",
   "execution_count": 13,
   "id": "83e453f4",
   "metadata": {},
   "outputs": [],
   "source": [
    "def diff_date_(trajec_date):\n",
    "    \"\"\"\n",
    "    A dictionary with the same structure as our data trajectories.\n",
    "    It contains the time delta between the attempts in the trajectories and a reference date.\n",
    "\n",
    "    - trajec_emb_date: A dictionary containing the timestamps of the attempts.\n",
    "\n",
    "    \"\"\"\n",
    "    \n",
    "    # Choose a random reference date. The only condition is that it must be earlier than every other timestamp.\n",
    "    reference_date = pd.to_datetime(\"2020-01-01\")\n",
    "    # Initialisation of the dictionnary\n",
    "    diff_dates = {}\n",
    "    for exo in trajec_date:\n",
    "        if exo not in diff_dates:\n",
    "            diff_dates[exo] = {}\n",
    "        for student in trajec_date[exo]:\n",
    "            list_date = trajec_date[exo][student]\n",
    "            list_diff_date = []\n",
    "            # Calcule the timedelta between the reference date and the timestamp of the attemp\n",
    "            for date in list_date:\n",
    "                date = pd.to_datetime(date)\n",
    "                diff_date = date - reference_date\n",
    "                list_diff_date.append(diff_date)\n",
    "            diff_dates[exo][student] = list_diff_date\n",
    "    return diff_dates"
   ]
  },
  {
   "cell_type": "code",
   "execution_count": 14,
   "id": "7f7a209f",
   "metadata": {},
   "outputs": [],
   "source": [
    "def repartition_date_(diff_date):\n",
    "    \"\"\"\n",
    "    Creat a dictionary that, for each exercise, lists all the adjusted timestamps for that exercise. \n",
    "      To calculate these adjusted timestamps, we subtract a random date from the attempt timestamps to ensure positive values, \n",
    "      then convert the results to days.\n",
    "    - diff_date: A dictionary that provides the timestamps of every attempt for each trajectory.\n",
    "    \n",
    "    \"\"\"\n",
    "    # Initialisation of the dictionnary\n",
    "    repartition_date = {}\n",
    "    for exo in diff_date:\n",
    "        repartition_date_list = []\n",
    "        for list_date in diff_date[exo].values():\n",
    "            repartition_date_list += list_date\n",
    "        repartition_date[exo] = repartition_date_list\n",
    "    return repartition_date"
   ]
  },
  {
   "cell_type": "code",
   "execution_count": 15,
   "id": "d0426cf2",
   "metadata": {},
   "outputs": [],
   "source": [
    "def find_closest_trajectory(date, list_date, trajec):\n",
    "    \"\"\"\n",
    "    - date: The target date for which we want to find the closest date to add the corresponding trajectory.\n",
    "    - list_date: A list of dates for all trajectories.\n",
    "    - trajec: A list of all trajectories.\n",
    "    - return: The closest timestamp to the specified date.\n",
    "    \"\"\"\n",
    "    closest_date = None\n",
    "    closest_trajectory = None\n",
    "    min_timedelta = timedelta.max\n",
    "    date = date.total_seconds() / (24 * 3600)\n",
    "    \n",
    "    for i, d in enumerate(list_date):\n",
    "        d = d.total_seconds() / (24 * 3600)\n",
    "        delta = d - date\n",
    "        delta = pd.to_timedelta(delta, unit='D')\n",
    "        if delta >= timedelta(0) and delta < min_timedelta:\n",
    "            min_timedelta = delta\n",
    "            closest_date = d\n",
    "            closest_trajectory = trajec[i]\n",
    "    # When there is no more trajectory older than date\n",
    "    if type(closest_trajectory) == type(None):\n",
    "        closest_trajectory = trajec[-1]\n",
    "    return closest_trajectory"
   ]
  },
  {
   "cell_type": "code",
   "execution_count": 16,
   "id": "8ade8def",
   "metadata": {},
   "outputs": [],
   "source": [
    "def padd_trajectories(diff_date, repartition_date, trajec):\n",
    "    \"\"\"\n",
    "    Pad the trajectories to prepare them for input into a clustering algorithm\n",
    "    \n",
    "    - diff_date: A dictionary that provides the timestamps of every attempt for each trajectory.\n",
    "    - repartition_date: A dictionary that, for each exercise, lists all the adjusted timestamps for that exercise. \n",
    "      To calculate these adjusted timestamps, we subtract a random date from the attempt timestamps to ensure positive values, \n",
    "      then convert the results to days.\n",
    "    - trajec : A dictionary containing all trajectories, organized by exercise.\n",
    "    - Return : dictionnary of padded trajectory\n",
    "\n",
    "    \"\"\"\n",
    "\n",
    "    # Initialisation of the dictionnary\n",
    "    padded_trajec = {}\n",
    "\n",
    "    for exo in diff_date:\n",
    "        list_repartition_date = repartition_date[exo]\n",
    "        padded_trajec[exo] = {}\n",
    "\n",
    "        for student in diff_date[exo]:\n",
    "            list_date = diff_date[exo][student]\n",
    "            list_trajec = trajec[exo][student]\n",
    "            list_padded = []\n",
    "            # k-th attemps of the trajectory\n",
    "            k = 0\n",
    "            for rep_date in list_repartition_date:\n",
    "                if k < len(list_date) and rep_date >= list_date[k]: #.total_seconds() / (24 * 3600):\n",
    "                    list_padded.append(list_trajec[k])\n",
    "                    k += 1\n",
    "                else:\n",
    "                    # closest_trajectory depends on the type of data in the trajectory:\n",
    "                    # - If the trajectory contains embeddings, closest_trajectory is an embedding.\n",
    "                    # - If it involves similarity, closest_trajectory is a similarity measure.\n",
    "                    closest_trajectory = find_closest_trajectory(rep_date, list_date, list_trajec)\n",
    "                    list_padded.append(closest_trajectory)\n",
    "\n",
    "            padded_trajec[exo][student] = list_padded\n",
    "    return padded_trajec"
   ]
  },
  {
   "cell_type": "markdown",
   "id": "9a6072d5",
   "metadata": {},
   "source": [
    "# Clustering on embedding"
   ]
  },
  {
   "cell_type": "code",
   "execution_count": 17,
   "id": "0eec7c83",
   "metadata": {},
   "outputs": [],
   "source": [
    "def calculate_silhouette_scores_matrice(data):\n",
    "    \"\"\"\n",
    "    - data: The input data for clustering, consisting of all trajectories.\n",
    "    - Return: The optimal number of clusters that maximizes the silhouette score.\n",
    "    \"\"\"\n",
    "    \n",
    "    # Compute the DTW distance matrix once\n",
    "    dists = cdist_dtw(data)\n",
    "    \n",
    "    silhouette_scores = []\n",
    "    max_clus = len(data) - 1\n",
    "    clus_ = min(max_clus, 12)\n",
    "    for n_clusters in tqdm(range(2, clus_)):\n",
    "        model = TimeSeriesKMeans(n_clusters=n_clusters, metric=\"dtw\", max_iter=10, random_state=0)\n",
    "        labels = model.fit_predict(data)\n",
    "        \n",
    "        # Use the DTW distance matrix with silhouette_score\n",
    "        silhouette_avg = silhouette_score(dists, labels, metric=\"precomputed\")\n",
    "        silhouette_scores.append(silhouette_avg)\n",
    "        \n",
    "    if silhouette_scores == []:\n",
    "        k = \"empty\"\n",
    "    else:\n",
    "        # we add a + 2 since we have at least k = 2\n",
    "        k = np.argmax(silhouette_scores) + 2\n",
    "        return k\n"
   ]
  },
  {
   "cell_type": "code",
   "execution_count": 18,
   "id": "3e26e737",
   "metadata": {},
   "outputs": [],
   "source": [
    "def get_labels(trajec):\n",
    "    \"\"\"\n",
    "    Use TimeSeriesKMeans clustering with trajectories as input to obtain corresponding labels\n",
    "    labels_: A dictionary where the keys are exercises and the values are the trajectories for each exercise\n",
    "    Return : Dictionnary where the keys are exercises and the values are an array of labels for each trajectory\n",
    "\n",
    "    \"\"\"\n",
    "    # Stock the labels data here\n",
    "    labels_ = {}\n",
    "    for exo in tqdm(trajec):\n",
    "        data_exo = np.array(list(trajec[exo].values()))\n",
    "        # calculate_silhouette_scores_matrice use silouhette score with pre-computed matrice distance\n",
    "        optimal_n_clusters =  calculate_silhouette_scores_matrice(data_exo)\n",
    "        # With too few trajectories, it's impossible to determine an optimal number of clusters\n",
    "        if optimal_n_clusters != None:\n",
    "            model_emb = TimeSeriesKMeans(n_clusters=optimal_n_clusters, metric=\"dtw\", max_iter=10)\n",
    "            labels = model_emb.fit_predict(data_exo)\n",
    "            labels_[exo] = labels\n",
    "    return labels_"
   ]
  },
  {
   "cell_type": "code",
   "execution_count": 19,
   "id": "453005f7",
   "metadata": {},
   "outputs": [],
   "source": [
    "def compute_cluster_emb(data, embedding_data):\n",
    "    trajec_emb, trajec_emb_date = trajectory_construction_embedding(data, embedding_data)\n",
    "    diff_date = diff_date_(trajec_emb_date)\n",
    "    repartition_date = repartition_date_(diff_date)\n",
    "    padded_trajectory = padd_trajectories(diff_date, repartition_date, trajec_emb)\n",
    "    labels_emb = get_labels(padded_trajectory)\n",
    "    return labels_emb"
   ]
  },
  {
   "cell_type": "code",
   "execution_count": 27,
   "id": "6953d1ef",
   "metadata": {},
   "outputs": [],
   "source": [
    "label_compute = False # Put at True if you want to compute the labels\n",
    "\n",
    "\n",
    "if label_compute:\n",
    "    start_time = time.time()\n",
    "    labels_emb = compute_cluster_emb(dublin_data_sampled, embedding_data_sampled)\n",
    "    with open(f'Datasets/labels/labels_emb_dublin_{percentage}.pkl', 'wb') as f:\n",
    "        pickle.dump(labels_emb, f)\n",
    "    end_time = time.time()\n",
    "    time_emb = end_time - start_time\n",
    "else:\n",
    "    # Open labels that already exist\n",
    "    with open(f'Datasets/labels/labels_emb_dublin_{percentage}.pkl', 'rb') as f:\n",
    "        labels_emb = pickle.load(f)"
   ]
  },
  {
   "cell_type": "code",
   "execution_count": 29,
   "id": "c121adf9",
   "metadata": {},
   "outputs": [],
   "source": [
    "def plot_trajectory(data_visualisation, labels, max_attemps = 100):\n",
    "    \"\"\"\n",
    "    Plot the trajectory of attemps, exercise by exercise\n",
    "    \n",
    "    - data_visualisation : list of dictionnary that contain embbeding, correction, date, student id and attemps\n",
    "    - labels : labels computed by clustering methode\n",
    "    - max_attemps : number max of attemps we can find by exercise\n",
    "    \"\"\"\n",
    "    trajectory, correct, date, student, code = data_visualisation\n",
    "    for exo in labels_emb.keys():\n",
    "        list_emb = trajectory[exo] \n",
    "        # Control the transparency of the points. \n",
    "        # If 1, the point won't be transparent, else he will be a bit transparent in the graph\n",
    "        valeurs_alpha = correct[exo] \n",
    "        unique_labels = labels[exo] # list of different label : id_student and correction\n",
    "        list_date = date[exo]\n",
    "        # To ensure a readable graph, we limit the number of attempts\n",
    "        if len(list_emb) < max_attemps:\n",
    "            data_array = np.array(list_emb)\n",
    "            n_samples = data_array.shape[0]\n",
    "            perplexity = min(n_samples - 1, 30)  \n",
    "\n",
    "            # Utiliser t-SNE avec perplexité appropriée\n",
    "            pca = PCA(n_components=2, random_state=42)\n",
    "            X_transformed = pca.fit_transform(data_array)\n",
    "\n",
    "            # Label\n",
    "            cmap = plt.cm.tab10\n",
    "            label_color_map = {label: cmap(i) for i, label in enumerate(np.unique(unique_labels))}\n",
    "            alpha_values = [0.2 if val == 0 else 1 for val in valeurs_alpha]\n",
    "\n",
    "            # Create a new figure for each exercise\n",
    "            plt.figure()\n",
    "\n",
    "            # Plot all points at once\n",
    "            plotted_labels = set()  \n",
    "            for label in unique_labels:\n",
    "                if label not in plotted_labels: \n",
    "                    indices = [i for i, l in enumerate(unique_labels) if l == label]\n",
    "                    # Select the alpha values corresponding to the indices\n",
    "                    alpha_values_subset = [alpha_values[i] for i in indices] \n",
    "                    plt.scatter(X_transformed[indices, 0], X_transformed[indices, 1], alpha=alpha_values_subset, color=label_color_map[label], label=label, s=50)\n",
    "                    # Add the label to the set of labels already added\n",
    "                    plotted_labels.add(label) \n",
    "\n",
    "                    # Add arrows by connecting each consecutive point\n",
    "                    for i in range(len(indices) - 1):\n",
    "                        premier_point = (X_transformed[indices[i], 0], X_transformed[indices[i], 1])\n",
    "                        dernier_point = (X_transformed[indices[i + 1], 0], X_transformed[indices[i + 1], 1])\n",
    "                        plt.annotate('', xy=dernier_point, xytext=premier_point,\n",
    "                                     arrowprops=dict(facecolor=label_color_map[label], edgecolor=label_color_map[label], arrowstyle='->', linewidth=1))\n",
    "            # Add legend\n",
    "            plt.legend(bbox_to_anchor=(1.05, 1), loc='upper left')\n",
    "            plt.title(f\"Exercice {exo}\")\n",
    "\n",
    "            # Show the plot for this exercise\n",
    "            plt.show()\n"
   ]
  },
  {
   "cell_type": "code",
   "execution_count": 30,
   "id": "15baa64b",
   "metadata": {},
   "outputs": [],
   "source": [
    "# Get our previous data constructed from visualisation_trajectory notebook\n",
    "with open('Datasets\\data_visualisation_dublin.pkl', 'rb') as fichier:\n",
    "    data_visualisation = pickle.load(fichier)"
   ]
  },
  {
   "cell_type": "code",
   "execution_count": 31,
   "id": "eb7db408",
   "metadata": {},
   "outputs": [
    {
     "data": {
      "image/png": "[encoded data removed]",
      "text/plain": [
       "<Figure size 640x480 with 1 Axes>"
      ]
     },
     "metadata": {},
     "output_type": "display_data"
    },
    {
     "data": {
      "image/png": "[encoded data removed]",
      "text/plain": [
       "<Figure size 640x480 with 1 Axes>"
      ]
     },
     "metadata": {},
     "output_type": "display_data"
    },
    {
     "data": {
      "image/png": "[encoded data removed]",
      "text/plain": [
       "<Figure size 640x480 with 1 Axes>"
      ]
     },
     "metadata": {},
     "output_type": "display_data"
    },
    {
     "data": {
      "image/png": "[encoded data removed]",
      "text/plain": [
       "<Figure size 640x480 with 1 Axes>"
      ]
     },
     "metadata": {},
     "output_type": "display_data"
    }
   ],
   "source": [
    "plot_trajectory(data_visualisation, labels_emb)"
   ]
  },
  {
   "cell_type": "markdown",
   "id": "c4325e23",
   "metadata": {},
   "source": [
    "# Clustering on cos² and levenshtein"
   ]
  },
  {
   "cell_type": "code",
   "execution_count": 32,
   "id": "0205a354",
   "metadata": {},
   "outputs": [],
   "source": [
    "# Load data trajectories\n",
    "\n",
    "with open('Datasets/Trajectories/trajectory_lev_dublin.pkl', 'rb') as fichier:\n",
    "    trajec_lev = pickle.load(fichier)\n",
    "with open('Datasets/Trajectories/trajectory_cos_dublin.pkl', 'rb') as fichier:\n",
    "    trajec_cos = pickle.load(fichier)\n",
    "with open('Datasets/Trajectories/trajectory_date_dublin.pkl', 'rb') as fichier:\n",
    "    trajec_date = pickle.load(fichier)"
   ]
  },
  {
   "cell_type": "code",
   "execution_count": 33,
   "id": "31f6ada0-ce92-46be-a527-5db3a828a8ef",
   "metadata": {},
   "outputs": [
    {
     "data": {
      "application/vnd.jupyter.widget-view+json": {
       "model_id": "57a4e3735d77467bb6746c1083954e58",
       "version_major": 2,
       "version_minor": 0
      },
      "text/plain": [
       "  0%|          | 0/109 [00:00<?, ?it/s]"
      ]
     },
     "metadata": {},
     "output_type": "display_data"
    }
   ],
   "source": [
    "# Since we are taking a percentage of the data, we adapt the trajec_method data to match our reduced dataset\n",
    "attempts_ex_student = {}\n",
    "for attempts in dublin_data_sampled:\n",
    "    exercise = attempts[\"exercise_name\"]\n",
    "    student = attempts[\"user\"]\n",
    "    if exercise not in attempts_ex_student:\n",
    "        attempts_ex_student[exercise] = {}\n",
    "    if student not in attempts_ex_student[exercise]:\n",
    "         attempts_ex_student[exercise][student] = 0\n",
    "    attempts_ex_student[exercise][student] += 1\n",
    "\n",
    "\n",
    "for exercise in tqdm(attempts_ex_student):\n",
    "    for student in (attempts_ex_student[exercise]):\n",
    "        if len(trajec_lev[exercise][student]) > attempts_ex_student[exercise][student]:\n",
    "            while len(trajec_lev[exercise][student]) > attempts_ex_student[exercise][student]:\n",
    "                index = range(len(trajec_lev[exercise][student])-1)\n",
    "                index_random = random.choice(index)\n",
    "                trajec_lev[exercise][student].pop(index_random)\n",
    "                trajec_cos[exercise][student].pop(index_random)\n",
    "                trajec_date[exercise][student].pop(index_random)"
   ]
  },
  {
   "cell_type": "code",
   "execution_count": 34,
   "id": "ba96ae88-0c24-49e6-bb59-7c5243de53bf",
   "metadata": {},
   "outputs": [],
   "source": [
    "# Since we are taking a percentage of the data, we adapt the trajec_method data to match our reduced dataset\n",
    "\n",
    "copy_trajec = {}\n",
    "for exercise in trajec_lev:\n",
    "    copy_trajec[exercise] = {}\n",
    "    for student in trajec_lev[exercise]:\n",
    "        copy_trajec[exercise][student] = 0"
   ]
  },
  {
   "cell_type": "code",
   "execution_count": 35,
   "id": "9e3e516d-e9cd-4f2f-ac1d-eca4846136ce",
   "metadata": {},
   "outputs": [],
   "source": [
    "# Since we are taking a percentage of the data, we adapt the trajec_method data to match our reduced dataset\n",
    "\n",
    "for exercise in copy_trajec:\n",
    "    if exercise not in attempts_ex_student:\n",
    "        del trajec_lev[exercise]\n",
    "        del trajec_cos[exercise]\n",
    "        del trajec_date[exercise]"
   ]
  },
  {
   "cell_type": "code",
   "execution_count": 36,
   "id": "8032c2fe-b059-48ff-bdf8-335cdde2b09f",
   "metadata": {},
   "outputs": [],
   "source": [
    "# Since we are taking a percentage of the data, we adapt the trajec_method data to match our reduced dataset\n",
    "\n",
    "for exercise in attempts_ex_student:\n",
    "    if len(attempts_ex_student[exercise]) < len(trajec_lev[exercise]):\n",
    "        for student in copy_trajec[exercise]:\n",
    "            if student not in attempts_ex_student[exercise]:\n",
    "                del trajec_lev[exercise][student]\n",
    "                del trajec_cos[exercise][student]\n",
    "                del trajec_date[exercise][student]"
   ]
  },
  {
   "cell_type": "code",
   "execution_count": 37,
   "id": "4737f6f3",
   "metadata": {},
   "outputs": [],
   "source": [
    "def compute_cluster(trajec, trajec_date):\n",
    "    \"\"\"\n",
    "    Give the labels from the clustering for each exercise\n",
    "    \"\"\"\n",
    "    diff_date = diff_date_(trajec_date)\n",
    "    repartition_date = repartition_date_(diff_date)\n",
    "    padded_trajectory = padd_trajectories(diff_date, repartition_date, trajec)\n",
    "    labels_ = get_labels(padded_trajectory)\n",
    "    return labels_"
   ]
  },
  {
   "cell_type": "code",
   "execution_count": 7,
   "id": "d9ca7deb",
   "metadata": {
    "jupyter": {
     "source_hidden": true
    }
   },
   "outputs": [],
   "source": [
    "label_compute = False # Put at True if you want to compute the labels\n",
    "\n",
    "if label_compute:\n",
    "    start_time = time.time()\n",
    "    label_lev = compute_cluster(trajec_lev, trajec_date) \n",
    "    with open(f'Datasets/labels_lev_dublin_{percentage}.pkl', 'wb') as f:\n",
    "        pickle.dump(labels_lev, f)\n",
    "    end_time = time.time()\n",
    "    time_lev = end_time - start_time\n",
    "else:\n",
    "    # Open labels that already exists\n",
    "    with open(f'Datasets/labels/labels_lev_dublin_{percentage}.pkl', 'rb') as f:\n",
    "        label_lev = pickle.load(f)  "
   ]
  },
  {
   "cell_type": "code",
   "execution_count": 9,
   "id": "18785436",
   "metadata": {},
   "outputs": [],
   "source": [
    "label_compute = False # Put at True if you want to compute the labels\n",
    "\n",
    "if label_compute:\n",
    "    start_time = time.time()\n",
    "    label_cos = compute_cluster(trajec_cos, trajec_date) \n",
    "    with open(f'Datasets/labels_cos_dublin_{percentage}.pkl', 'wb') as f:\n",
    "        pickle.dump(labels_cos, f)\n",
    "    end_time = time.time()\n",
    "    time_cos = end_time - start_time\n",
    "else:\n",
    "    # Open labels that already exists\n",
    "    with open(f'Datasets/labels/labels_cos_dublin_{percentage}.pkl', 'rb') as f:\n",
    "        label_cos = pickle.load(f)  "
   ]
  },
  {
   "cell_type": "markdown",
   "id": "c520191c",
   "metadata": {},
   "source": [
    "# Plot clustering trajectory cos²"
   ]
  },
  {
   "cell_type": "code",
   "execution_count": null,
   "id": "2ccccd02",
   "metadata": {},
   "outputs": [],
   "source": [
    "plot_trajectory(data_visualisation, label_cos)"
   ]
  },
  {
   "cell_type": "markdown",
   "id": "264a96c4",
   "metadata": {},
   "source": [
    "# Plot clustering trajectory lev"
   ]
  },
  {
   "cell_type": "code",
   "execution_count": null,
   "id": "59bcc0e7",
   "metadata": {},
   "outputs": [],
   "source": [
    "plot_trajectory(data_visualisation, label_lev)"
   ]
  },
  {
   "cell_type": "markdown",
   "id": "3811ad7f",
   "metadata": {},
   "source": [
    "# Comparaison between clustering"
   ]
  },
  {
   "cell_type": "markdown",
   "id": "0c6666c2",
   "metadata": {},
   "source": [
    "In this section, we will compare the quality of the clustering using some metric such as the silouhette, Calinski and Davies-Bouldin score. We will compute our version of thoses metric using the matrix distance to calculate the score for the embedding methode."
   ]
  },
  {
   "cell_type": "markdown",
   "id": "71c11003",
   "metadata": {},
   "source": [
    "## Silouhette score"
   ]
  },
  {
   "cell_type": "code",
   "execution_count": 493,
   "id": "99783434",
   "metadata": {},
   "outputs": [],
   "source": [
    "def distance_matrix(A, B):\n",
    "    \"\"\"\n",
    "    Return the distance between two matrix\"\n",
    "    \"\"\"\n",
    "    return np.linalg.norm(A - B, 'fro')\n",
    "\n",
    "def count_array(array, n):\n",
    "    \"\"\"\n",
    "    Count the number of times that n is in array\n",
    "    \"\"\"\n",
    "    return list(array).count(n)\n",
    "\n",
    "\n",
    "def list_emb_to_array(row):\n",
    "    \"Reshape 3d array to 2d\"\n",
    "    array = np.array(row)\n",
    "    a,b,c = array.shape\n",
    "    array = array.reshape(b,c)\n",
    "    return array    "
   ]
  },
  {
   "cell_type": "markdown",
   "id": "da8e767a",
   "metadata": {},
   "source": [
    "We compute the silouhette methode using the algorithme we find in wikipedia using the matrix distance instead of classic distance. https://fr.wikipedia.org/wiki/Silhouette_(clustering)"
   ]
  },
  {
   "cell_type": "code",
   "execution_count": 494,
   "id": "59235f9f",
   "metadata": {},
   "outputs": [],
   "source": [
    "def a_silh(i, labels, data):\n",
    "    k = labels[i]\n",
    "    num_in_clus = count_array(labels, k)\n",
    "    if num_in_clus > 1:\n",
    "        num_trajec = len(data)\n",
    "        sum_distance = 0\n",
    "        array_i = list_emb_to_array(data[i:i+1])\n",
    "        for j in range(0,num_trajec):\n",
    "            if i != j and labels[j] == k:\n",
    "                array_j = list_emb_to_array(data[j:j+1])\n",
    "                sum_distance += distance_matrix(array_i,array_j)\n",
    "        a = 1/(num_in_clus-1) * sum_distance\n",
    "    else:\n",
    "        a = 0\n",
    "    return a\n",
    "\n",
    "def b_silh(i, labels, data):\n",
    "    list_b_l = []\n",
    "    k = labels[i]\n",
    "    num_trajec = len(data)\n",
    "    array_i = list_emb_to_array(data[i:i+1])\n",
    "    for q in labels:\n",
    "        if q!=k:\n",
    "            num_in_clus_q = count_array(labels, q)\n",
    "            sum_dis = 0\n",
    "            for j in range(0,num_trajec):\n",
    "                if labels[j] == q:\n",
    "                    array_j = list_emb_to_array(data[j:j+1])\n",
    "                    sum_dis += distance_matrix(array_i, array_j)\n",
    "            b_l = 1/num_in_clus_q * sum_dis\n",
    "            list_b_l.append(b_l)\n",
    "    return min(list_b_l)"
   ]
  },
  {
   "cell_type": "code",
   "execution_count": 495,
   "id": "5df4401b",
   "metadata": {},
   "outputs": [],
   "source": [
    "def s_sil(b_sil,a_sil):\n",
    "    return (b_sil-a_sil)/max(a_sil,b_sil)"
   ]
  },
  {
   "cell_type": "code",
   "execution_count": 496,
   "id": "64313b23",
   "metadata": {},
   "outputs": [],
   "source": [
    "def S_sil(K,labels, data):\n",
    "    sum_S = 0\n",
    "    num_trajec = len(data)\n",
    "    for k in range(K):\n",
    "        num_in_clus = count_array(labels, k)\n",
    "        if num_in_clus == 0:\n",
    "            print(labels,k, K)\n",
    "        sum_silh = 0\n",
    "        for i in range(num_trajec):\n",
    "            if labels[i] == k:\n",
    "                b, a = b_silh(i, labels, data), a_silh(i, labels, data)\n",
    "                s = s_sil(b,a)\n",
    "                sum_silh += s\n",
    "        sum_S += 1/num_in_clus * sum_silh\n",
    "    S = 1/K * sum_S\n",
    "    return S"
   ]
  },
  {
   "cell_type": "code",
   "execution_count": 497,
   "id": "58cbbf39",
   "metadata": {},
   "outputs": [],
   "source": [
    "def best_k_silh(data):\n",
    "    silhouette_scores = []\n",
    "    max_clus = len(data) - 1\n",
    "    for K in range(2,max_clus):\n",
    "        model_emb = TimeSeriesKMeans(n_clusters=K, metric=\"dtw\", max_iter=10)\n",
    "        labels_emb = model_emb.fit_predict(data)\n",
    "        silh_score_perso = S_sil(K, labels_emb, data_exo)\n",
    "        silhouette_scores.append(silh_score_perso)\n",
    "    return np.argmax(silhouette_scores)"
   ]
  },
  {
   "cell_type": "markdown",
   "id": "2ddfb05a",
   "metadata": {},
   "source": [
    "## Calinski"
   ]
  },
  {
   "cell_type": "markdown",
   "id": "4e560597",
   "metadata": {},
   "source": [
    "We input the Calinski methode. https://fr.wikipedia.org/wiki/Indice_de_Calinski-Harabasz"
   ]
  },
  {
   "cell_type": "code",
   "execution_count": 498,
   "id": "fd70b378",
   "metadata": {},
   "outputs": [],
   "source": [
    "def centroid_data_(labels, padded_trajec):\n",
    "    centroid_data = {}\n",
    "    for exo in labels:\n",
    "        centroid_data[exo] = {}\n",
    "        list_label = labels[exo]\n",
    "        trajectories = padded_trajec[exo]\n",
    "        list_trajec = list(trajectories.keys())\n",
    "        for i, k in enumerate(list_label):\n",
    "            if k not in centroid_data[exo]:\n",
    "                centroid_data[exo][k] = []\n",
    "            trajec = list_trajec[i] \n",
    "            centroid_data[exo][k].append(trajectories[trajec])\n",
    "            \n",
    "    centroid = {}\n",
    "    for exo in centroid_data:\n",
    "        centroid[exo] = {}\n",
    "        for k in centroid_data[exo]:\n",
    "            centroid[exo][k] = np.mean(centroid_data[exo][k], axis = 0)\n",
    "            \n",
    "                  \n",
    "            \n",
    "    l_centroid = {}\n",
    "    for exo in centroid_data:\n",
    "        l_centroid[exo] = []\n",
    "        for k in centroid_data[exo]:\n",
    "            l_centroid[exo].append(centroid[exo][k])\n",
    "    centroid_global = {}\n",
    "    for exo in l_centroid:\n",
    "        centroid_global[exo] = np.mean(l_centroid[exo], axis = 0)\n",
    "        \n",
    "        \n",
    "        \n",
    "    return centroid_data, centroid, centroid_global"
   ]
  },
  {
   "cell_type": "code",
   "execution_count": 499,
   "id": "5ba3e5f2",
   "metadata": {},
   "outputs": [],
   "source": [
    "def BCSS_(dict_label_emb,dict_padded_trajec, dict_centroid, centroid_global):\n",
    "    BCSS_exo = {}\n",
    "    for exo in dict_label_emb:\n",
    "        BCSS_exo[exo] = 0\n",
    "        K = len(set(dict_label_emb[exo]))\n",
    "        ni = len(dict_padded_trajec[exo])\n",
    "        centroid_globale = centroid_global[exo]\n",
    "        for label in set(dict_label_emb[exo]):\n",
    "            centroid = dict_centroid[exo][label]\n",
    "            dis_centr = distance_matrix(centroid,centroid_globale) ** 2\n",
    "            BCSS_exo[exo] += ni * dis_centr\n",
    "    return BCSS_exo"
   ]
  },
  {
   "cell_type": "code",
   "execution_count": 500,
   "id": "ad7144a7",
   "metadata": {},
   "outputs": [],
   "source": [
    "def WCSS_(dict_label_emb, dict_centroid_data, centroids):\n",
    "    WCSS_exo = {}\n",
    "    for exo in dict_label_emb:\n",
    "        WCSS_exo[exo] = 0\n",
    "        for label in set(dict_label_emb[exo]):\n",
    "            centroid = centroids[exo][label]\n",
    "            X = dict_centroid_data[exo][label]\n",
    "            for x in X:\n",
    "                dis_centr = distance_matrix(centroid,x) ** 2\n",
    "                WCSS_exo[exo] += dis_centr\n",
    "    return WCSS_exo"
   ]
  },
  {
   "cell_type": "code",
   "execution_count": 501,
   "id": "9fb66857",
   "metadata": {},
   "outputs": [],
   "source": [
    "def CH_(BCSS, WCSS, dict_padded_trajec, dict_label_emb):\n",
    "    CH = {}\n",
    "    for exo in BCSS:\n",
    "        BCSS_exo = BCSS[exo]\n",
    "        WCSS_exo = WCSS[exo]\n",
    "        k = len(set(dict_label_emb[exo]))\n",
    "        n = len(dict_padded_trajec[exo])\n",
    "        numerator = BCSS_exo/(k-1)\n",
    "        denominator = WCSS_exo/(n-k)\n",
    "        if n-k <0:\n",
    "            print(\"yes\")\n",
    "        CH[exo] = numerator/denominator\n",
    "    return CH"
   ]
  },
  {
   "cell_type": "code",
   "execution_count": 502,
   "id": "50ecf129-1438-4e20-b45d-849528944140",
   "metadata": {},
   "outputs": [
    {
     "data": {
      "text/plain": [
       "21232"
      ]
     },
     "execution_count": 502,
     "metadata": {},
     "output_type": "execute_result"
    }
   ],
   "source": [
    "len(dublin_data_sampled)"
   ]
  },
  {
   "cell_type": "code",
   "execution_count": 503,
   "id": "bd82e910",
   "metadata": {},
   "outputs": [],
   "source": [
    "trajec_emb, trajec_emb_date = trajectory_construction_embedding(dublin_data_sampled, embedding_data_sampled)\n",
    "diff_date = diff_date_(trajec_emb_date)\n",
    "repartition_date = repartition_date_(diff_date)\n",
    "padded_trajectory = padd_trajectories(diff_date, repartition_date, trajec_emb)"
   ]
  },
  {
   "cell_type": "code",
   "execution_count": 504,
   "id": "d5bdb835",
   "metadata": {},
   "outputs": [],
   "source": [
    "centroid_data, centroid, centroid_global = centroid_data_(labels_emb, padded_trajectory)"
   ]
  },
  {
   "cell_type": "code",
   "execution_count": 505,
   "id": "73ea91a4",
   "metadata": {},
   "outputs": [],
   "source": [
    "BCSS = BCSS_(labels_emb, padded_trajectory, centroid, centroid_global)\n",
    "WCSS =  WCSS_(labels_emb, centroid_data, centroid)\n",
    "CH = CH_(BCSS, WCSS, padded_trajectory, labels_emb)"
   ]
  },
  {
   "cell_type": "code",
   "execution_count": 506,
   "id": "c5e02821",
   "metadata": {},
   "outputs": [
    {
     "data": {
      "application/vnd.jupyter.widget-view+json": {
       "model_id": "516cade98a2e465b93df16df34e42348",
       "version_major": 2,
       "version_minor": 0
      },
      "text/plain": [
       "  0%|          | 0/92 [00:00<?, ?it/s]"
      ]
     },
     "metadata": {},
     "output_type": "display_data"
    }
   ],
   "source": [
    "# For embedding\n",
    "score_emb = {}\n",
    "for exo in tqdm(labels_emb):\n",
    "    X = np.array(list(padded_trajectory[exo].values()))\n",
    "    y = labels_emb[exo]\n",
    "    K = len(set(y))\n",
    "    silhouette_avg = S_sil(K,y,X)\n",
    "    score_emb[exo] = silhouette_avg\n"
   ]
  },
  {
   "cell_type": "markdown",
   "id": "fc2361c4",
   "metadata": {},
   "source": [
    "# Davies-Bouldin"
   ]
  },
  {
   "cell_type": "markdown",
   "id": "f9207367",
   "metadata": {},
   "source": [
    "Same way, we compute the DB methode. https://fr.wikipedia.org/wiki/Indice_de_Davies-Bouldin"
   ]
  },
  {
   "cell_type": "code",
   "execution_count": 507,
   "id": "bed56156",
   "metadata": {},
   "outputs": [],
   "source": [
    "def Si_(dict_padded_trajec, dict_centroid, dict_label_emb):\n",
    "    Si_dict = {}\n",
    "    for exo in dict_label_emb:\n",
    "        labels = dict_label_emb[exo]\n",
    "        centroids = dict_centroid[exo]\n",
    "        trajecs = dict_padded_trajec[exo]\n",
    "        list_stu = list(trajecs.keys())\n",
    "        Si_dict[exo] = {}\n",
    "        for i, label in enumerate(labels):\n",
    "            if label not in Si_dict[exo]:\n",
    "                Si_dict[exo][label] = 0\n",
    "            student = list_stu[i]\n",
    "            Xj = trajecs[student]\n",
    "            centroid = centroids[label]\n",
    "            dis = distance_matrix(Xj,centroid)\n",
    "            Si_dict[exo][label] += dis\n",
    "            \n",
    "    for exo in Si_dict:\n",
    "        for label in Si_dict[exo]:\n",
    "            T_i = count_array(dict_label_emb[exo],label)\n",
    "            Si_dict[exo][label] /= T_i\n",
    "    return Si_dict"
   ]
  },
  {
   "cell_type": "code",
   "execution_count": 508,
   "id": "3fd6da11",
   "metadata": {},
   "outputs": [],
   "source": [
    "def M_(dict_centroid):\n",
    "    M_dict = {}\n",
    "    for exo in dict_centroid:\n",
    "        M_dict[exo] = {}\n",
    "        list_label = list(dict_centroid[exo].keys())\n",
    "        for label_i in list_label:\n",
    "            M_dict[exo][label_i] = {}\n",
    "            centroid_i = dict_centroid[exo][label_i]\n",
    "            for label_j in list_label:\n",
    "                if label_i != label_j:\n",
    "                    centroid_j = dict_centroid[exo][label_j]\n",
    "                    dis = distance_matrix(centroid_i, centroid_j)\n",
    "                    M_dict[exo][label_i][label_j] = dis\n",
    "    return M_dict"
   ]
  },
  {
   "cell_type": "code",
   "execution_count": 509,
   "id": "80c8069c",
   "metadata": {},
   "outputs": [],
   "source": [
    "def R_(M,S):\n",
    "    R_dict = {}\n",
    "    for exo in S:\n",
    "        R_dict[exo] = {}\n",
    "        for label_i in S[exo]:\n",
    "            Si = S[exo][label_i]\n",
    "            R_dict[exo][label_i] = []\n",
    "            for label_j in S[exo]:\n",
    "                Sj = S[exo][label_j]\n",
    "                if label_i != label_j:\n",
    "                    Mij = M[exo][label_i][label_j]\n",
    "                    Rij = (Si+Sj)/Mij\n",
    "                    R_dict[exo][label_i].append(Rij)\n",
    "    return R_dict"
   ]
  },
  {
   "cell_type": "code",
   "execution_count": 510,
   "id": "beb45e11",
   "metadata": {},
   "outputs": [],
   "source": [
    "def D_(R):\n",
    "    D_dict = {}\n",
    "    for exo in R:\n",
    "        D_dict[exo] = {}\n",
    "        for label in R[exo]:\n",
    "            D_i = max(R[exo][label])\n",
    "            D_dict[exo][label] = D_i\n",
    "    return D_dict"
   ]
  },
  {
   "cell_type": "code",
   "execution_count": 511,
   "id": "135ea856",
   "metadata": {},
   "outputs": [],
   "source": [
    "def DB_(D):\n",
    "    DB_dict = {}\n",
    "    for exo in D:\n",
    "        DB_dict[exo] = 0\n",
    "        for label in D[exo]:\n",
    "            DB_dict[exo]+= D[exo][label]\n",
    "        DB_dict[exo]/= len(D[exo])\n",
    "    return DB_dict"
   ]
  },
  {
   "cell_type": "code",
   "execution_count": 512,
   "id": "722c8b0d",
   "metadata": {},
   "outputs": [],
   "source": [
    "M, S =  M_(centroid), Si_(padded_trajectory, centroid, labels_emb)\n",
    "R = R_(M,S)\n",
    "D = D_(R)\n",
    "DB = DB_(D)"
   ]
  },
  {
   "cell_type": "markdown",
   "id": "fce8484b",
   "metadata": {},
   "source": [
    "## Score for the embedding methode"
   ]
  },
  {
   "cell_type": "code",
   "execution_count": 513,
   "id": "c9f42995",
   "metadata": {},
   "outputs": [],
   "source": [
    "embedding_methode = {\"Silouhette_score\" : sum(score_emb.values()),\"Davies_bouldin\" : sum(DB.values()), \"Calisnki\" : sum(CH.values()) }\n"
   ]
  },
  {
   "cell_type": "markdown",
   "id": "2528fbb6",
   "metadata": {},
   "source": [
    "## Score of cos² methode"
   ]
  },
  {
   "cell_type": "code",
   "execution_count": 514,
   "id": "ab9c1192",
   "metadata": {},
   "outputs": [],
   "source": [
    "# Get padded_trajectory for cos² methode\n",
    "diff_date = diff_date_(trajec_date)\n",
    "repartition_date = repartition_date_(diff_date)\n",
    "padded_trajectory_cos2 = padd_trajectories(diff_date, repartition_date, trajec_cos)"
   ]
  },
  {
   "cell_type": "code",
   "execution_count": 515,
   "id": "8c19a2ed",
   "metadata": {},
   "outputs": [
    {
     "data": {
      "application/vnd.jupyter.widget-view+json": {
       "model_id": "62fbd62a397d4a6389ebf82e5c5e48df",
       "version_major": 2,
       "version_minor": 0
      },
      "text/plain": [
       "  0%|          | 0/92 [00:00<?, ?it/s]"
      ]
     },
     "metadata": {},
     "output_type": "display_data"
    }
   ],
   "source": [
    "cos_methode = {\"Silouhette_score\" : 0, 'Davies_bouldin' : 0, \"Calisnki\" : 0}\n",
    "for exo in tqdm(label_cos):\n",
    "    X = np.array(list(padded_trajectory_cos2[exo].values()))\n",
    "    y = label_cos[exo]\n",
    "\n",
    "    silhouette_avg = silhouette_score(X, y)\n",
    "    calinski_harabasz_avg = calinski_harabasz_score(X, y)\n",
    "    davies_bouldin_avg = davies_bouldin_score(X, y)\n",
    "    \n",
    "    \n",
    "    cos_methode[\"Silouhette_score\"] += silhouette_avg\n",
    "    cos_methode[\"Davies_bouldin\"] += davies_bouldin_avg\n",
    "    cos_methode[\"Calisnki\"] += calinski_harabasz_avg"
   ]
  },
  {
   "cell_type": "markdown",
   "id": "aab413e8",
   "metadata": {},
   "source": [
    "## Score of lev methode"
   ]
  },
  {
   "cell_type": "code",
   "execution_count": 516,
   "id": "ccfdb20a",
   "metadata": {},
   "outputs": [],
   "source": [
    "# Get padded_trajectory for cos² methode\n",
    "diff_date = diff_date_(trajec_date)\n",
    "repartition_date = repartition_date_(diff_date)\n",
    "padded_trajectory_lev = padd_trajectories(diff_date, repartition_date, trajec_lev)"
   ]
  },
  {
   "cell_type": "code",
   "execution_count": 517,
   "id": "69f60167",
   "metadata": {},
   "outputs": [
    {
     "data": {
      "application/vnd.jupyter.widget-view+json": {
       "model_id": "1fafc45aa5304f6e8713f0a24d971a79",
       "version_major": 2,
       "version_minor": 0
      },
      "text/plain": [
       "  0%|          | 0/92 [00:00<?, ?it/s]"
      ]
     },
     "metadata": {},
     "output_type": "display_data"
    }
   ],
   "source": [
    "lev_methode = {\"Silouhette_score\" : 0, 'Davies_bouldin' : 0, \"Calisnki\" : 0}\n",
    "for exo in tqdm(label_lev):\n",
    "    X = np.array(list(padded_trajectory_lev[exo].values()))\n",
    "    y = label_lev[exo]\n",
    "\n",
    "    silhouette_avg = silhouette_score(X, y)\n",
    "    calinski_harabasz_avg = calinski_harabasz_score(X, y)\n",
    "    davies_bouldin_avg = davies_bouldin_score(X, y)\n",
    "    \n",
    "    \n",
    "    lev_methode[\"Silouhette_score\"] += silhouette_avg\n",
    "    lev_methode[\"Davies_bouldin\"] += davies_bouldin_avg\n",
    "    lev_methode[\"Calisnki\"] += calinski_harabasz_avg"
   ]
  },
  {
   "cell_type": "code",
   "execution_count": 518,
   "id": "46107929",
   "metadata": {},
   "outputs": [
    {
     "data": {
      "text/html": [
       "<div>\n",
       "<style scoped>\n",
       "    .dataframe tbody tr th:only-of-type {\n",
       "        vertical-align: middle;\n",
       "    }\n",
       "\n",
       "    .dataframe tbody tr th {\n",
       "        vertical-align: top;\n",
       "    }\n",
       "\n",
       "    .dataframe thead th {\n",
       "        text-align: right;\n",
       "    }\n",
       "</style>\n",
       "<table border=\"1\" class=\"dataframe\">\n",
       "  <thead>\n",
       "    <tr style=\"text-align: right;\">\n",
       "      <th></th>\n",
       "      <th>Silouhette_score</th>\n",
       "      <th>Davies_bouldin</th>\n",
       "      <th>Calisnki</th>\n",
       "    </tr>\n",
       "  </thead>\n",
       "  <tbody>\n",
       "    <tr>\n",
       "      <th>embbeding</th>\n",
       "      <td>44.351799</td>\n",
       "      <td>96.656090</td>\n",
       "      <td>86602.946160</td>\n",
       "    </tr>\n",
       "    <tr>\n",
       "      <th>levenshtein</th>\n",
       "      <td>63.514664</td>\n",
       "      <td>40.154072</td>\n",
       "      <td>24615.619975</td>\n",
       "    </tr>\n",
       "    <tr>\n",
       "      <th>cos²</th>\n",
       "      <td>64.195033</td>\n",
       "      <td>57.517700</td>\n",
       "      <td>21373.882214</td>\n",
       "    </tr>\n",
       "  </tbody>\n",
       "</table>\n",
       "</div>"
      ],
      "text/plain": [
       "             Silouhette_score  Davies_bouldin      Calisnki\n",
       "embbeding           44.351799       96.656090  86602.946160\n",
       "levenshtein         63.514664       40.154072  24615.619975\n",
       "cos²                64.195033       57.517700  21373.882214"
      ]
     },
     "execution_count": 518,
     "metadata": {},
     "output_type": "execute_result"
    }
   ],
   "source": [
    "df_score = pd.DataFrame([embedding_methode, lev_methode, cos_methode], index=['embbeding','levenshtein', 'cos²'])\n",
    "df_score"
   ]
  },
  {
   "cell_type": "markdown",
   "id": "c823496e",
   "metadata": {},
   "source": [
    "In this section, we will compute the score for each methode using random data"
   ]
  },
  {
   "cell_type": "markdown",
   "id": "fd995a56",
   "metadata": {},
   "source": [
    "Let's see the maximum and the minimum value we can find in the embeddings"
   ]
  },
  {
   "cell_type": "code",
   "execution_count": 519,
   "id": "ca968e0b",
   "metadata": {},
   "outputs": [],
   "source": [
    "# m for min and M for max\n",
    "m, M = 0,0\n",
    "for exercise in padded_trajectory:\n",
    "    for student in padded_trajectory[exercise]:\n",
    "        for i in range(len(padded_trajectory[exercise][student])):\n",
    "            m = min(m,min(padded_trajectory[exercise][student][i]))\n",
    "            M = max(M,max(padded_trajectory[exercise][student][i]))"
   ]
  },
  {
   "cell_type": "code",
   "execution_count": 520,
   "id": "f65f359b",
   "metadata": {},
   "outputs": [
    {
     "data": {
      "application/vnd.jupyter.widget-view+json": {
       "model_id": "760b9625f33e497b9a9ccf4f7a84f98e",
       "version_major": 2,
       "version_minor": 0
      },
      "text/plain": [
       "  0%|          | 0/106 [00:00<?, ?it/s]"
      ]
     },
     "metadata": {},
     "output_type": "display_data"
    }
   ],
   "source": [
    "# Create random embedding\n",
    "random_embedding = {}\n",
    "for exercise in tqdm(padded_trajectory):\n",
    "    random_embedding[exercise] = {}\n",
    "    for student in padded_trajectory[exercise]:\n",
    "        random_embedding[exercise][student] = []\n",
    "        for i in range(len(padded_trajectory[exercise][student])):\n",
    "            random_values = [random.uniform(m, M) for _ in range(100)]\n",
    "            random_embedding[exercise][student].append(random_values)"
   ]
  },
  {
   "cell_type": "code",
   "execution_count": 521,
   "id": "63cf7c14",
   "metadata": {},
   "outputs": [
    {
     "data": {
      "application/vnd.jupyter.widget-view+json": {
       "model_id": "cec8d829d4d94572b427e54b0460f092",
       "version_major": 2,
       "version_minor": 0
      },
      "text/plain": [
       "  0%|          | 0/92 [00:00<?, ?it/s]"
      ]
     },
     "metadata": {},
     "output_type": "display_data"
    }
   ],
   "source": [
    "# Silhouette embedding random\n",
    "score_emb_random = {}\n",
    "for exo in tqdm(labels_emb):\n",
    "    X = np.array(list(random_embedding[exo].values()))\n",
    "    y = labels_emb[exo]\n",
    "    K = len(set(y))\n",
    "    silhouette_avg = S_sil(K,y,X)\n",
    "    score_emb_random[exo] = silhouette_avg\n"
   ]
  },
  {
   "cell_type": "code",
   "execution_count": 522,
   "id": "c06dc868",
   "metadata": {},
   "outputs": [],
   "source": [
    "# Comoute Davies_bouldin and Calinski methode for random embeddings\n",
    "\n",
    "# Calinski methode\n",
    "centroid_data_random, centroid_random, centroid_global_random = centroid_data_(labels_emb, random_embedding)\n",
    "\n",
    "BCSS = BCSS_(labels_emb, random_embedding, centroid_random, centroid_global_random)\n",
    "WCSS =  WCSS_(labels_emb, centroid_data_random, centroid_random)\n",
    "CH_random = CH_(BCSS, WCSS, random_embedding, labels_emb)\n",
    "\n",
    "# Davies_bouldin methode\n",
    "M, S =  M_(centroid_random), Si_(random_embedding, centroid_random, labels_emb)\n",
    "R = R_(M,S)\n",
    "D = D_(R)\n",
    "DB_random = DB_(D)"
   ]
  },
  {
   "cell_type": "code",
   "execution_count": 523,
   "id": "8c83b759",
   "metadata": {},
   "outputs": [],
   "source": [
    "embedding_random_methode = {\"Silouhette_score\" : sum(score_emb_random.values()),\"Davies_bouldin\" : sum(DB_random.values()), \"Calisnki\" : sum(CH_random.values()) }"
   ]
  },
  {
   "cell_type": "markdown",
   "id": "db1490ca",
   "metadata": {},
   "source": [
    "Here we will create random trajectory as the cos² and lev methode"
   ]
  },
  {
   "cell_type": "code",
   "execution_count": 524,
   "id": "3b9082e9",
   "metadata": {},
   "outputs": [],
   "source": [
    "# We need to check the max and the min valeus for lev\n",
    "m, M = 10000, 0\n",
    "for exercise in padded_trajectory_lev:\n",
    "    for student in padded_trajectory_lev[exercise]:\n",
    "        m = min(m,min(padded_trajectory_lev[exercise][student]))\n",
    "        M = max(M,max(padded_trajectory_lev[exercise][student]))"
   ]
  },
  {
   "cell_type": "code",
   "execution_count": 525,
   "id": "745a8927",
   "metadata": {},
   "outputs": [
    {
     "data": {
      "application/vnd.jupyter.widget-view+json": {
       "model_id": "f3e198556ea44ab99be7cbeffd8cf82f",
       "version_major": 2,
       "version_minor": 0
      },
      "text/plain": [
       "  0%|          | 0/106 [00:00<?, ?it/s]"
      ]
     },
     "metadata": {},
     "output_type": "display_data"
    }
   ],
   "source": [
    "# Create random data for lev\n",
    "random_trajectory_lev = {}\n",
    "for exercise in tqdm(padded_trajectory_lev):\n",
    "    random_trajectory_lev[exercise] = {}\n",
    "    for student in padded_trajectory_lev[exercise]:\n",
    "        length = len(padded_trajectory_lev[exercise][student])\n",
    "        random_values = [random.uniform(m, M) for _ in range(length)]\n",
    "        random_trajectory_lev[exercise][student] = random_values"
   ]
  },
  {
   "cell_type": "code",
   "execution_count": 526,
   "id": "17ec9d75",
   "metadata": {},
   "outputs": [
    {
     "data": {
      "application/vnd.jupyter.widget-view+json": {
       "model_id": "af30d77892dd427ea9189da9d916fd0f",
       "version_major": 2,
       "version_minor": 0
      },
      "text/plain": [
       "  0%|          | 0/106 [00:00<?, ?it/s]"
      ]
     },
     "metadata": {},
     "output_type": "display_data"
    }
   ],
   "source": [
    "# Create random data for cos\n",
    "random_trajectory_cos2 = {}\n",
    "for exercise in tqdm(padded_trajectory_cos2):\n",
    "    random_trajectory_cos2[exercise] = {}\n",
    "    for student in padded_trajectory_cos2[exercise]:\n",
    "        length = len(padded_trajectory_cos2[exercise][student])\n",
    "        random_values = [random.uniform(0, 1) for _ in range(length)]\n",
    "        random_trajectory_cos2[exercise][student] = random_values"
   ]
  },
  {
   "cell_type": "markdown",
   "id": "3c258b37",
   "metadata": {},
   "source": [
    "Let's calculate the score for lev and cos² methode"
   ]
  },
  {
   "cell_type": "code",
   "execution_count": 527,
   "id": "cae8f969",
   "metadata": {},
   "outputs": [
    {
     "data": {
      "application/vnd.jupyter.widget-view+json": {
       "model_id": "6fe81005206d438a9705d4edb2a38742",
       "version_major": 2,
       "version_minor": 0
      },
      "text/plain": [
       "  0%|          | 0/92 [00:00<?, ?it/s]"
      ]
     },
     "metadata": {},
     "output_type": "display_data"
    }
   ],
   "source": [
    "lev_methode_random = {\"Silouhette_score\" : 0, 'Davies_bouldin' : 0, \"Calisnki\" : 0}\n",
    "for exo in tqdm(label_lev):\n",
    "    X = np.array(list(random_trajectory_lev[exo].values()))\n",
    "    y = label_lev[exo]\n",
    "\n",
    "    silhouette_avg = silhouette_score(X, y)\n",
    "    calinski_harabasz_avg = calinski_harabasz_score(X, y)\n",
    "    davies_bouldin_avg = davies_bouldin_score(X, y)\n",
    "    \n",
    "    \n",
    "    lev_methode_random[\"Silouhette_score\"] += silhouette_avg\n",
    "    lev_methode_random[\"Davies_bouldin\"] += davies_bouldin_avg\n",
    "    lev_methode_random[\"Calisnki\"] += calinski_harabasz_avg"
   ]
  },
  {
   "cell_type": "code",
   "execution_count": 528,
   "id": "f5545900",
   "metadata": {},
   "outputs": [
    {
     "data": {
      "application/vnd.jupyter.widget-view+json": {
       "model_id": "96b6cc8cd0bc4181985fa654b75823b6",
       "version_major": 2,
       "version_minor": 0
      },
      "text/plain": [
       "  0%|          | 0/92 [00:00<?, ?it/s]"
      ]
     },
     "metadata": {},
     "output_type": "display_data"
    }
   ],
   "source": [
    "cos_methode_random = {\"Silouhette_score\" : 0, 'Davies_bouldin' : 0, \"Calisnki\" : 0}\n",
    "for exo in tqdm(label_cos):\n",
    "    X = np.array(list(random_trajectory_cos2[exo].values()))\n",
    "    y = label_cos[exo]\n",
    "\n",
    "    silhouette_avg = silhouette_score(X, y)\n",
    "    calinski_harabasz_avg = calinski_harabasz_score(X, y)\n",
    "    davies_bouldin_avg = davies_bouldin_score(X, y)\n",
    "    \n",
    "    \n",
    "    cos_methode_random[\"Silouhette_score\"] += silhouette_avg\n",
    "    cos_methode_random[\"Davies_bouldin\"] += davies_bouldin_avg\n",
    "    cos_methode_random[\"Calisnki\"] += calinski_harabasz_avg"
   ]
  },
  {
   "cell_type": "code",
   "execution_count": 529,
   "id": "8110ac55",
   "metadata": {},
   "outputs": [],
   "source": [
    "df_score_random = pd.DataFrame([embedding_random_methode, lev_methode_random, cos_methode_random], index=['embbeding_rand','levenshtein_rand', 'cos²_rand'])"
   ]
  },
  {
   "cell_type": "code",
   "execution_count": 530,
   "id": "01d16026",
   "metadata": {},
   "outputs": [
    {
     "data": {
      "text/html": [
       "<div>\n",
       "<style scoped>\n",
       "    .dataframe tbody tr th:only-of-type {\n",
       "        vertical-align: middle;\n",
       "    }\n",
       "\n",
       "    .dataframe tbody tr th {\n",
       "        vertical-align: top;\n",
       "    }\n",
       "\n",
       "    .dataframe thead th {\n",
       "        text-align: right;\n",
       "    }\n",
       "</style>\n",
       "<table border=\"1\" class=\"dataframe\">\n",
       "  <thead>\n",
       "    <tr style=\"text-align: right;\">\n",
       "      <th></th>\n",
       "      <th>Silouhette_score</th>\n",
       "      <th>Davies_bouldin</th>\n",
       "      <th>Calisnki</th>\n",
       "    </tr>\n",
       "  </thead>\n",
       "  <tbody>\n",
       "    <tr>\n",
       "      <th>embbeding</th>\n",
       "      <td>44.351799</td>\n",
       "      <td>96.656090</td>\n",
       "      <td>86602.946160</td>\n",
       "    </tr>\n",
       "    <tr>\n",
       "      <th>levenshtein</th>\n",
       "      <td>63.514664</td>\n",
       "      <td>40.154072</td>\n",
       "      <td>24615.619975</td>\n",
       "    </tr>\n",
       "    <tr>\n",
       "      <th>cos²</th>\n",
       "      <td>64.195033</td>\n",
       "      <td>57.517700</td>\n",
       "      <td>21373.882214</td>\n",
       "    </tr>\n",
       "    <tr>\n",
       "      <th>embbeding_rand</th>\n",
       "      <td>17.259175</td>\n",
       "      <td>391.512475</td>\n",
       "      <td>2042.231562</td>\n",
       "    </tr>\n",
       "    <tr>\n",
       "      <th>levenshtein_rand</th>\n",
       "      <td>-0.502602</td>\n",
       "      <td>502.419414</td>\n",
       "      <td>92.669342</td>\n",
       "    </tr>\n",
       "    <tr>\n",
       "      <th>cos²_rand</th>\n",
       "      <td>-0.702307</td>\n",
       "      <td>453.526534</td>\n",
       "      <td>93.113089</td>\n",
       "    </tr>\n",
       "  </tbody>\n",
       "</table>\n",
       "</div>"
      ],
      "text/plain": [
       "                  Silouhette_score  Davies_bouldin      Calisnki\n",
       "embbeding                44.351799       96.656090  86602.946160\n",
       "levenshtein              63.514664       40.154072  24615.619975\n",
       "cos²                     64.195033       57.517700  21373.882214\n",
       "embbeding_rand           17.259175      391.512475   2042.231562\n",
       "levenshtein_rand         -0.502602      502.419414     92.669342\n",
       "cos²_rand                -0.702307      453.526534     93.113089"
      ]
     },
     "execution_count": 530,
     "metadata": {},
     "output_type": "execute_result"
    }
   ],
   "source": [
    "df_comparaison = pd.concat([df_score, df_score_random], ignore_index=False)\n",
    "df_comparaison"
   ]
  },
  {
   "cell_type": "code",
   "execution_count": 531,
   "id": "db69d90e-a16e-42a5-9720-af27e708b903",
   "metadata": {},
   "outputs": [],
   "source": [
    "df_comparaison.to_csv(f'Comparaison_visu_dublin/df_comparaison_{percentage}.csv', index=False)"
   ]
  }
 ],
 "metadata": {
  "kernelspec": {
   "display_name": "Python 3 (ipykernel)",
   "language": "python",
   "name": "python3"
  },
  "language_info": {
   "codemirror_mode": {
    "name": "ipython",
    "version": 3
   },
   "file_extension": ".py",
   "mimetype": "text/x-python",
   "name": "python",
   "nbconvert_exporter": "python",
   "pygments_lexer": "ipython3",
   "version": "3.11.5"
  }
 },
 "nbformat": 4,
 "nbformat_minor": 5
}
