{
 "cells": [
  {
   "cell_type": "code",
   "execution_count": 1,
   "id": "50ca7de0",
   "metadata": {},
   "outputs": [
    {
     "name": "stderr",
     "output_type": "stream",
     "text": [
      "C:\\Users\\Stagiaire\\anaconda3\\Lib\\site-packages\\pandas\\core\\arrays\\masked.py:60: UserWarning: Pandas requires version '1.3.6' or newer of 'bottleneck' (version '1.3.5' currently installed).\n",
      "  from pandas.core import (\n"
     ]
    },
    {
     "name": "stdout",
     "output_type": "stream",
     "text": [
      "WARNING:tensorflow:From C:\\Users\\Stagiaire\\anaconda3\\Lib\\site-packages\\keras\\src\\losses.py:2976: The name tf.losses.sparse_softmax_cross_entropy is deprecated. Please use tf.compat.v1.losses.sparse_softmax_cross_entropy instead.\n",
      "\n"
     ]
    }
   ],
   "source": [
    "import pickle\n",
    "import warnings\n",
    "from datetime import datetime, timedelta\n",
    "\n",
    "import numpy as np\n",
    "import pandas as pd\n",
    "import matplotlib.pyplot as plt\n",
    "from tqdm.notebook import tqdm\n",
    "\n",
    "from sklearn.manifold import TSNE\n",
    "from sklearn.decomposition import PCA\n",
    "import umap\n",
    "import pacmap\n",
    "import Levenshtein\n",
    "\n",
    "from manage import jsonAttempts2data, jsonExercises2data\n",
    "from code2aes import Code2Aes\n",
    "from aes2vec import learnModel, inferVectors, read_corpus, data2cor\n"
   ]
  },
  {
   "cell_type": "code",
   "execution_count": 20,
   "id": "146fcf27",
   "metadata": {},
   "outputs": [
    {
     "name": "stdout",
     "output_type": "stream",
     "text": [
      "umap                          0.1.1\n",
      "umap-learn                    0.5.5\n"
     ]
    }
   ],
   "source": [
    "!pip list | findstr umap"
   ]
  },
  {
   "cell_type": "markdown",
   "id": "5a9ebfae",
   "metadata": {},
   "source": [
    "In this notebook, we will compare the impact of PCA, t-SNE, and PaCMAP on dimensionality reduction.\n",
    "To do this, we will compute the similarity between all points in the original embedding, then compute the similarity in the reduced embeddings and calculate the difference. A lower score means a better representation"
   ]
  },
  {
   "cell_type": "markdown",
   "id": "d601d3ea",
   "metadata": {},
   "source": [
    "First, let's import some data (trajectories...)"
   ]
  },
  {
   "cell_type": "code",
   "execution_count": 2,
   "id": "edd9e7c1",
   "metadata": {},
   "outputs": [],
   "source": [
    "# Importations des données\n",
    "NC1014 = jsonAttempts2data('Datasets/NewCaledonia_1014.json')\n",
    "NCExercises = jsonExercises2data('Datasets/NewCaledonia_exercises.json')\n",
    "NC5690 = jsonAttempts2data('Datasets/NewCaledonia_5690.json')"
   ]
  },
  {
   "cell_type": "code",
   "execution_count": 3,
   "id": "f8b94982",
   "metadata": {},
   "outputs": [],
   "source": [
    "# Load data trajectories\n",
    "\n",
    "with open('Datasets\\data_visualisation.pkl', 'rb') as fichier:\n",
    "    data_visualisation = pickle.load(fichier)\n",
    "trajec_emb = data_visualisation[0]"
   ]
  },
  {
   "cell_type": "code",
   "execution_count": 4,
   "id": "40841f92",
   "metadata": {},
   "outputs": [
    {
     "data": {
      "text/plain": [
       "['def semestreValide(ue1,ue2):\\n    if ue1>10:\\n      if ue2<10:\\n        if (ue1+ue2)/2>10:\\n          res=True\\n        else:\\n          res=False\\n      else:\\n        res=True\\n    else:\\n      res=False\\n    return res',\n",
       " 'def semestreValide(ue1,ue2):\\n    if ue1>=10:\\n      if ue2<10:\\n        if (ue1+ue2)/2>=10:\\n          res=True\\n        else:\\n          res=False\\n      else:\\n        res=True\\n    else:\\n      res=False\\n    return res',\n",
       " 'def semestreValide(ue1,ue2):\\n    res = False\\n    if ue1 >= 10 and ue2 >= 10:\\n        res = True\\n    elif (ue1 > 10 and ue2 < 10) and (ue1+ue2)/2 >= 10:\\n        res = True\\n    \\n\\n    return res',\n",
       " 'def semestreValide(ue1,ue2):\\n  if ue1>10 :\\n    a=ue1+ue2\\n    if a>=20 :\\n      res=True\\n  else :\\n    res=False\\n  return res',\n",
       " 'def semestreValide(ue1,ue2):\\n  if ue1>=10 :\\n    a=ue1+ue2\\n    if a>=20 :\\n      res=True\\n  else :\\n    res=False\\n  return res',\n",
       " 'def semestreValide(ue1,ue2):\\n  if ue1 < 10 :\\n    if ue2 >= 10 :\\n    \\tres = True\\n    else :\\n    \\tres = False \\n  else :\\n    if ue2 >= 10 :\\n    \\tres = True\\n      \\n    return res',\n",
       " 'def semestreValide(ue1,ue2):\\n  if ue1 < 10 :\\n    if ue2 >= 10 :\\n    \\tres = True\\n    else :\\n    \\tres = False \\n  else :\\n    if ue2 >= 10 :\\n    \\tres = True\\n      \\n  return res',\n",
       " 'def semestreValide(ue1,ue2):\\n  if ue1 < 10 :\\n    if ue2 >= 10 :\\n    \\tres = True\\n    else :\\n    \\tres = False \\n  else :\\n    if ue2 >= 10 :\\n    \\tres = True\\n    else :\\n    \\tres = False\\n      \\n  return res',\n",
       " 'def semestreValide(ue1,ue2):\\n  if ue1 < 10 :\\n    res = False\\n  elif ue1 >= 10 and ue2 < 10 :\\n    if ((ue1 + ue2) /2) >= 10 :\\n      res = True\\n    else :\\n      res = False\\n  else :\\n  \\tres = True\\n   \\n      \\n  return res',\n",
       " 'def semestreValide(ue1, ue2):\\n    if ue1 >= 10 and ue2 >= 10:\\n        return True\\n    elif ue1 >= 10:\\n        if ((ue1 + ue2) / 2) >= 10:\\n            return True\\n    else:\\n        return False',\n",
       " 'def semestreValide(ue1,ue2):\\n  if ue1>10 and ue2>10:\\n    res=True\\n  else:\\n    if ue1>ue2:\\n      if ue1+ue2/2>10:\\n        res=True\\n      else:\\n        res=False\\n    else:\\n      res=False\\n  return res',\n",
       " 'def semestreValide(ue1,ue2):\\n  if ue1>=10 and ue2>=10:\\n    res=True\\n  else:\\n    if ue1>ue2:\\n      if ue1+ue2/2>10:\\n        res=True\\n      else:\\n        res=False\\n    else:\\n      res=False\\n  return res',\n",
       " 'def semestreValide(ue1,ue2):\\n  if ue1>=10 and ue2>=10:\\n    res=True\\n  else:\\n    res=False\\n  return res',\n",
       " 'def semestreValide(ue1,ue2):\\n  if ue1>=10 and ue1>ue2:\\n    res=True\\n  else:\\n    res=False\\n  return res',\n",
       " 'def semestreValide(ue1,ue2):\\n  if ue1>=10 and ue2>=10:\\n    res=True\\n  else:\\n    if ue1>=10 and ue2<=10 and ue1+ue2>10:\\n      res=True\\n    else:\\n      res=False\\n  return res',\n",
       " 'def semestreValide(ue1,ue2):\\n  if ue1==10 and ue2==10:\\n    return True\\n  if ue1>ue2 and ue1-ue2>0:\\n    return True\\n  else:\\n    return False',\n",
       " 'def semestreValide(ue1,ue2):\\n  if ue1==10 and ue2==10:\\n    return True\\n  if ue1>ue2 and ue1-ue2>=0:\\n    return True\\n  else:\\n    return False',\n",
       " 'def semestreValide(ue1,ue2):\\n  if ue1==10 and ue2==10:\\n    return True\\n  if ue1>ue2 or ue1<ue2 and ue1-ue2>=0:\\n    return True\\n  else:\\n    return False',\n",
       " 'def semestreValide(ue1,ue2):\\n  if ue1==10 and ue2==10:\\n    return True\\n  if ue1>ue2 or ue1<ue2:\\n    return True\\n  else:\\n    return False',\n",
       " 'def semestreValide(ue1,ue2):\\n  if ue1==10 and ue2==10:\\n    return True\\n  if ue1>ue2 and ue1-ue2>=0:\\n    return True\\n  else:\\n    return False',\n",
       " 'def semestreValide(ue1,ue2):\\n  if ue1==10 and ue2==10:\\n    return True\\n  if ue1>ue2 and ue1-ue2>=0:\\n    return True\\n  if ue1<ue2 and ue2-ue1>=0:\\n    return True\\n  else:\\n    return False',\n",
       " 'def semestreValide(ue1,ue2):\\n  if ue1==10 and ue2==10:\\n    return True\\n  if ue1>ue2 and ue1-ue2>=0:\\n    return True\\n  if ue1<ue2 and ue2-ue1>0:\\n    return True\\n  else:\\n    return False',\n",
       " 'def semestreValide(ue1,ue2):\\n  if ue1==10 and ue2==10:\\n    return True\\n  if ue1>ue2 and ue1-ue2>=0:\\n    return True\\n  if ue1>=10 and ue2>ue1:\\n    return True\\n  else:\\n    return False',\n",
       " 'def semestreValide(ue1,ue2):\\n  if ue1>=10 and ue2>=10:\\n    res=True\\n  elif ue1>=10 and (ue1+ue2)/2>=10:\\n    res=True\\n  else:\\n    res=False\\n  return res',\n",
       " 'def semestreValide(ue1,ue2):\\n  res=False\\n  if ue1>=10 and ue2>=10:\\n    res=True\\n  if ue1>=10 and (ue1+ue2)/2>=10:\\n    res=True\\n  return res',\n",
       " 'def semestreValide(ue1,ue2):\\n  res=False\\n  if (ue1>=10 and ue2>=10) or (ue1>=10 and (ue1+ue2)/2>=10):\\n    res=True\\n  return res',\n",
       " 'def semestreValide(ue1,ue2):\\n    res=False\\n    if ue1>=10 and ue2>=10:\\n      res=True\\n    else:\\n      res=False\\n    if ue1>=10 and ue2<10:\\n      res=True\\n    else:\\n      res=False\\n    if ue1<10 and ue2<10:\\n      res=False\\n    return res',\n",
       " 'def semestreValide(ue1,ue2):\\n    res=False\\n    if ue1>=10 and ue2>=10:\\n      res=True\\n    else:\\n      res=False\\n    if ue1>=10 and ue2<10:\\n      res=True\\n    else:\\n      res=False\\n    return res',\n",
       " 'def semestreValide(ue1,ue2):\\n    res=False\\n    if ue1>=10.0 and ue2>=10.0:\\n      res=True\\n    else:\\n      res=False\\n    if ue1>=10.0 and ue2<10.0:\\n      res=True\\n    else:\\n      res=False\\n    return res',\n",
       " 'def semestreValide(ue1,ue2):\\n    res=False\\n    if ue1>=10.0 and ue2>=10.0:\\n      res=True\\n    if ue1>=10.0 and ue2<10.0:\\n      res=True\\n    else:\\n      res=False\\n    return res',\n",
       " 'def semestreValide(ue1,ue2):\\n    res=False\\n    if ue1>=10.0 and ue2>=10.0:\\n      res=True\\n    if ue1>=10.0 and ue2<10.0:\\n      res=True\\n    return res',\n",
       " 'def semestreValide(ue1,ue2):\\n  if ue1>=10 and ue2>=10:\\n    res=True\\n  elif ue1>10 and ue2<10:\\n    if ue1-10+ue2>10:\\n      res=True\\n  else:\\n    res=False\\n  return res',\n",
       " 'def semestreValide(ue1,ue2):\\n  res=False\\n  if ue1>=10 and ue2>=10 or ue1+ue2>=20:\\n    res=True\\n  return res',\n",
       " 'def semestreValide(ue1,ue2):\\n  res=False\\n  if ue1>=10 and ue2>=10 or ue1+ue2>=20:\\n    res=True\\n  elif ue1<10:\\n    res=False\\n  return res',\n",
       " 'def semestreValide(ue1,ue2):\\n  res=False\\n  if ue1>=10 and ue2>=10 or ue1+ue2>=20:\\n    res=True\\n  elif ue1<10:\\n    res=False\\n  return res',\n",
       " 'def semestreValide(ue1,ue2):\\n  res=False\\n  if ue1<10:\\n    res=False\\n  elif ue1>=10 and ue2>=10 or ue1+ue2>=20:\\n    res=True\\n  return res',\n",
       " 'def semestreValide(ue1,ue2):\\n  if ue1<10:\\n    res=False\\n  if ue1>=10 and ue2>=10 or ue1>=10 and ue2<10 and ue1+ue2>=20:\\n    res=True\\n  return res',\n",
       " 'def semestreValide(ue1,ue2):\\n  moyenne=(ue1+ue2)/2\\n  if ue1>10 and ue2>10:\\n    return True\\n  elif ue1>ue2 and moyenne>10:\\n    return True\\n  else:\\n    return False',\n",
       " 'def semestreValide(ue1,ue2):\\n  moyenne=(ue1+ue2)/2\\n  if ue1>=10 and ue2>=10:\\n    return True\\n  elif ue1>ue2 and moyenne>=10:\\n    return True\\n  else:\\n    return False',\n",
       " 'def semestreValide(ue1,ue2):\\n\\tif ue1>=10 :\\n\\t\\tif ue2>=10:\\n\\t\\t\\tres=True\\n\\t\\telif (ue1+ue2)/2>=10:\\n\\t\\t\\tres=True\\n\\t\\telse:\\n\\t\\t\\tres=False\\n\\telse:\\n\\t\\tres=False\\n\\treturn res\\n']"
      ]
     },
     "execution_count": 4,
     "metadata": {},
     "output_type": "execute_result"
    }
   ],
   "source": [
    "data_visualisation[4][\"semestreValide\"]"
   ]
  },
  {
   "cell_type": "code",
   "execution_count": 5,
   "id": "4413ab38",
   "metadata": {},
   "outputs": [],
   "source": [
    "# similarity measure \n",
    "def cos2(x,y):\n",
    "    \"\"\"\n",
    "    Similarity measure\n",
    "    Return : float between 0 and 1\n",
    "    A value of 1 indicates that x and y are similar, while a value of 0 indicates that they are not.\n",
    "    \"\"\"\n",
    "    prod = np.dot(x,y)\n",
    "    norm1 =  np.linalg.norm(x)\n",
    "    norm2 =  np.linalg.norm(y)\n",
    "    cos2 = prod / (norm1 * norm2)\n",
    "    return cos2 ** 2"
   ]
  },
  {
   "cell_type": "code",
   "execution_count": 6,
   "id": "9a46c8e9",
   "metadata": {},
   "outputs": [],
   "source": [
    "def distance_embedding(trajec):\n",
    "    \"\"\"\n",
    "    Compute the similarity of every point with every other point.\n",
    "    Return: Dictionary where keys are exercises, and values are lists of lists of similarities.\n",
    "    The i-th list contains the similarity of point i with every other point\n",
    "    \"\"\"\n",
    "    score_emb = {}\n",
    "    for exercise in trajec:\n",
    "        score_emb[exercise] = []\n",
    "        embeddings = trajec[exercise]\n",
    "        for i in range(len(embeddings)-1):\n",
    "            embbeding_compared = embeddings[i]\n",
    "            compare = []\n",
    "            for j in range(i+1,len(embeddings)):\n",
    "                embbeding_compare = embeddings[j]\n",
    "                score = cos2(embbeding_compared,embbeding_compare)\n",
    "                compare.append(score)\n",
    "            score_emb[exercise].append(compare)\n",
    "    return score_emb"
   ]
  },
  {
   "cell_type": "markdown",
   "id": "9a4dbdb7",
   "metadata": {},
   "source": [
    "Let's get the reduced dimension of embedding with t-sne, pca and pacmap"
   ]
  },
  {
   "cell_type": "code",
   "execution_count": 7,
   "id": "b28cf3b9",
   "metadata": {},
   "outputs": [],
   "source": [
    "def get_reduced_data(trajec_emb):\n",
    "    warnings.filterwarnings('ignore')\n",
    "    trajectory_reduced = {\"t_sne\" : {}, \"PCA\" : {}, \"pacmap\" : {}}\n",
    "    for exo in tqdm(trajec_emb.keys()):\n",
    "        list_emb = trajec_emb[exo]\n",
    "        data_array = np.array(list_emb)\n",
    "        n_samples = data_array.shape[0]\n",
    "        perplexity = min(n_samples - 1, 30)\n",
    "        # Reduced data with TSNE\n",
    "        embedding_TSNE = TSNE(n_components=2, perplexity=perplexity, random_state=42)\n",
    "        X_TSNE = embedding_TSNE.fit_transform(data_array)\n",
    "        trajectory_reduced[\"t_sne\"][exo] = X_TSNE\n",
    "        # Reduced data with PCA\n",
    "        embedding_PCA = PCA(n_components=2, random_state=42)\n",
    "        X_PCA = embedding_PCA.fit_transform(data_array)\n",
    "        trajectory_reduced[\"PCA\"][exo] = X_PCA\n",
    "        # Reduced data with pacmap\n",
    "        embedding_pacmap = pacmap.PaCMAP(n_components=2, n_neighbors=perplexity, random_state=42)\n",
    "        X_pacmap = embedding_pacmap.fit_transform(data_array)\n",
    "        trajectory_reduced[\"pacmap\"][exo] = X_pacmap\n",
    "    return trajectory_reduced"
   ]
  },
  {
   "cell_type": "code",
   "execution_count": 8,
   "id": "e4147473",
   "metadata": {},
   "outputs": [],
   "source": [
    "def score(trajectory_reduced):\n",
    "    \"\"\"\n",
    "    Compute the score (cos²) between every points for each algo\n",
    "    \"\"\"\n",
    "    score_algo = {}\n",
    "    for algo in tqdm(trajectory_reduced):\n",
    "        trajec = trajectory_reduced[algo]\n",
    "        score_emb = distance_embedding(trajec)\n",
    "        score_algo[algo] = score_emb\n",
    "    return score_algo"
   ]
  },
  {
   "cell_type": "code",
   "execution_count": 9,
   "id": "fa82d4cf",
   "metadata": {},
   "outputs": [],
   "source": [
    "def compare_visu(score_method, score_embbeding):\n",
    "    score_compare = {}\n",
    "    for algo in score_method:\n",
    "        score_compare[algo] = {}\n",
    "        for exercise in score_embbeding:\n",
    "            score_emb = score_embbeding[exercise]\n",
    "            score_algo = score_method[algo][exercise]\n",
    "            score = 0\n",
    "            for i in range(len(score_emb)):\n",
    "                score_array = np.array(score_emb[i])\n",
    "                score_algo_array = np.array(score_algo[i])\n",
    "                score += sum(abs(score_array-score_algo_array))\n",
    "            score_compare[algo][exercise] = score\n",
    "    return score_compare"
   ]
  },
  {
   "cell_type": "code",
   "execution_count": 10,
   "id": "0667953e",
   "metadata": {},
   "outputs": [
    {
     "data": {
      "application/vnd.jupyter.widget-view+json": {
       "model_id": "19574b3fbcdf4532a1f5f5ac7b37ab87",
       "version_major": 2,
       "version_minor": 0
      },
      "text/plain": [
       "  0%|          | 0/56 [00:00<?, ?it/s]"
      ]
     },
     "metadata": {},
     "output_type": "display_data"
    },
    {
     "name": "stderr",
     "output_type": "stream",
     "text": [
      "  File \"C:\\Users\\Stagiaire\\anaconda3\\Lib\\site-packages\\joblib\\externals\\loky\\backend\\context.py\", line 217, in _count_physical_cores\n",
      "    raise ValueError(\n"
     ]
    },
    {
     "data": {
      "application/vnd.jupyter.widget-view+json": {
       "model_id": "1eee2447a15b4ff2982f219ce3b59cb9",
       "version_major": 2,
       "version_minor": 0
      },
      "text/plain": [
       "  0%|          | 0/3 [00:00<?, ?it/s]"
      ]
     },
     "metadata": {},
     "output_type": "display_data"
    }
   ],
   "source": [
    "score_emb = distance_embedding(trajec_emb)\n",
    "trajectory_reduced = get_reduced_data(trajec_emb)\n",
    "score_algo = score(trajectory_reduced)\n",
    "score_compare = compare_visu(score_algo, score_emb)"
   ]
  },
  {
   "cell_type": "code",
   "execution_count": 11,
   "id": "08270689",
   "metadata": {},
   "outputs": [
    {
     "name": "stdout",
     "output_type": "stream",
     "text": [
      "t_sne got a mean score of 3299.2605556479734\n",
      "PCA got a mean score of 3130.7491527263014\n",
      "pacmap got a mean score of 3458.157161818885\n"
     ]
    }
   ],
   "source": [
    "for algo in score_compare:\n",
    "    score = score_compare[algo]\n",
    "    mean = np.mean(list(score.values()))\n",
    "    print(f\"{algo} got a mean score of {mean}\")"
   ]
  },
  {
   "cell_type": "markdown",
   "id": "d50e74da",
   "metadata": {},
   "source": [
    "Let's compare t-sne and PCA using the source code"
   ]
  },
  {
   "cell_type": "code",
   "execution_count": 12,
   "id": "72b68866",
   "metadata": {},
   "outputs": [],
   "source": [
    "def euclidean_distance(x, y):\n",
    "    return np.sqrt((x[0] - y[0]) ** 2 + (x[1] - y[1]) ** 2)"
   ]
  },
  {
   "cell_type": "code",
   "execution_count": 13,
   "id": "44be5576",
   "metadata": {},
   "outputs": [],
   "source": [
    "def closest_point(trajectory_reduced):\n",
    "\n",
    "    closest_point_pca = {}\n",
    "    closest_point_tsne = {}\n",
    "\n",
    "    for exo in tqdm(trajectory_reduced[\"PCA\"]):\n",
    "        if exo not in closest_point_pca:\n",
    "            closest_point_tsne[exo] = {}\n",
    "            closest_point_pca[exo] = {}\n",
    "        coord_tsne = trajectory_reduced[\"t_sne\"][exo]\n",
    "        coord_pca = trajectory_reduced[\"PCA\"][exo]\n",
    "        for i, coord_t in enumerate(coord_tsne):\n",
    "            coord_p = coord_pca[i]\n",
    "            if i not in closest_point_pca[exo]:\n",
    "                closest_point_pca[exo][i] = []\n",
    "                closest_point_tsne[exo][i] = []\n",
    "            for j in range(len(coord_tsne)):\n",
    "                    coord_pca_compare = coord_pca[j]\n",
    "                    coord_tsne_compare = coord_tsne[j]\n",
    "                    dist_pca = euclidean_distance(coord_p,coord_pca_compare)\n",
    "                    dist_tsne = euclidean_distance(coord_t,coord_tsne_compare)\n",
    "                    closest_point_pca[exo][i].append(dist_pca)\n",
    "                    closest_point_tsne[exo][i].append(dist_tsne)\n",
    "    return closest_point_pca, closest_point_tsne"
   ]
  },
  {
   "cell_type": "code",
   "execution_count": 14,
   "id": "2f2d04ea",
   "metadata": {},
   "outputs": [],
   "source": [
    "def closet_point_lev(trajectory_reduced, data_visualisation):\n",
    "    source_code = data_visualisation[4]\n",
    "    closest_point_lev = {}\n",
    "    for exo in tqdm(trajectory_reduced[\"PCA\"]):\n",
    "        if exo not in closest_point_lev:\n",
    "            closest_point_lev[exo] = {}\n",
    "        codes = source_code[exo]\n",
    "        for i, code in enumerate(codes):\n",
    "            if i not in closest_point_lev[exo]:\n",
    "                closest_point_lev[exo][i] = []\n",
    "                for j in range(len(codes)):\n",
    "                    code_compare = codes[j]\n",
    "                    dis_lev = Levenshtein.distance(code, code_compare)\n",
    "                    closest_point_lev[exo][i].append(dis_lev)\n",
    "    return closest_point_lev"
   ]
  },
  {
   "cell_type": "code",
   "execution_count": 15,
   "id": "12cf3c60",
   "metadata": {},
   "outputs": [],
   "source": [
    "def define_closest_point(closest_point):\n",
    "    closest_point_index = {}\n",
    "    for exo in closest_point:\n",
    "        closest_point_index[exo] = {}\n",
    "        for index_tentative in closest_point[exo]:\n",
    "            list_distance = closest_point[exo][index_tentative]\n",
    "            closet_point = [i for i in range(len(list_distance))]\n",
    "            paired_lists = list(zip(list_distance, closet_point))\n",
    "            paired_lists_sorted = sorted(paired_lists, key=lambda x: x[0])\n",
    "            sorted_distances, sorted_closet_points = zip(*paired_lists_sorted)\n",
    "            sorted_distances = list(sorted_distances)\n",
    "            sorted_closet_points = list(sorted_closet_points)\n",
    "            closest_point_index[exo][index_tentative] = sorted_closet_points\n",
    "    return closest_point_index"
   ]
  },
  {
   "cell_type": "code",
   "execution_count": 16,
   "id": "fe194d32",
   "metadata": {},
   "outputs": [],
   "source": [
    "def count_permutations(reference_list, target_list):\n",
    "    index_map = {value: idx for idx, value in enumerate(reference_list)}\n",
    "    \n",
    "    visited = [False] * len(target_list)\n",
    "    swaps = 0\n",
    "    \n",
    "    for i in range(len(target_list)):\n",
    "        if visited[i] or index_map[target_list[i]] == i:\n",
    "            # If already visited or in the correct position, skip\n",
    "            continue\n",
    "        \n",
    "        # Start of a new cycle\n",
    "        cycle_size = 0\n",
    "        j = i\n",
    "        \n",
    "        while not visited[j]:\n",
    "            visited[j] = True\n",
    "            j = index_map[target_list[j]]\n",
    "            cycle_size += 1\n",
    "        \n",
    "        # Each cycle of size n requires n-1 swaps\n",
    "        if cycle_size > 0:\n",
    "            swaps += (cycle_size - 1)\n",
    "    \n",
    "    return swaps"
   ]
  },
  {
   "cell_type": "code",
   "execution_count": 17,
   "id": "5d22bdd8",
   "metadata": {},
   "outputs": [],
   "source": [
    "def permuation_algo(closest_point_pca, closest_point_tsne, closest_point_lev):\n",
    "    permu_pca = {}\n",
    "    permu_tsne = {}\n",
    "    for exo in closest_point_lev:\n",
    "        permu_tsne[exo] = 0\n",
    "        permu_pca[exo] = 0\n",
    "        for i in closest_point_pca[exo]:\n",
    "            reference_list = closest_point_lev[exo][i]\n",
    "            list_tsne = closest_point_tsne[exo][i]\n",
    "            list_acp = closest_point_pca[exo][i]\n",
    "            num_perm_pca = count_permutations(reference_list, list_acp)\n",
    "            num_perm_tsne = count_permutations(reference_list, list_tsne)\n",
    "            permu_tsne[exo] += num_perm_tsne\n",
    "            permu_pca[exo] += num_perm_pca\n",
    "    return permu_tsne, permu_pca"
   ]
  },
  {
   "cell_type": "code",
   "execution_count": 18,
   "id": "8ab38736",
   "metadata": {},
   "outputs": [
    {
     "data": {
      "application/vnd.jupyter.widget-view+json": {
       "model_id": "2642f440b84b4c1499d31f6cd3ad4f03",
       "version_major": 2,
       "version_minor": 0
      },
      "text/plain": [
       "  0%|          | 0/56 [00:00<?, ?it/s]"
      ]
     },
     "metadata": {},
     "output_type": "display_data"
    },
    {
     "data": {
      "application/vnd.jupyter.widget-view+json": {
       "model_id": "7a0f84bd02bc4f0ca3ee52ec3fee46f1",
       "version_major": 2,
       "version_minor": 0
      },
      "text/plain": [
       "  0%|          | 0/56 [00:00<?, ?it/s]"
      ]
     },
     "metadata": {},
     "output_type": "display_data"
    }
   ],
   "source": [
    "closest_point_pca, closest_point_tsne = closest_point(trajectory_reduced)\n",
    "closest_point_lev = closet_point_lev(trajectory_reduced, data_visualisation)\n",
    "\n",
    "closest_point_pca = define_closest_point(closest_point_pca)\n",
    "closest_point_tsne = define_closest_point(closest_point_tsne)\n",
    "closest_point_lev = define_closest_point(closest_point_lev)\n",
    "\n",
    "\n",
    "permu_tsne, permu_pca = permuation_algo(closest_point_pca, closest_point_tsne, closest_point_lev)"
   ]
  },
  {
   "cell_type": "code",
   "execution_count": 19,
   "id": "401c3598",
   "metadata": {},
   "outputs": [
    {
     "name": "stdout",
     "output_type": "stream",
     "text": [
      "On average, we got 15949.05357142857 permutations for tsne agaisnt 15974.25 for pca\n"
     ]
    }
   ],
   "source": [
    "mean_value_t = np.mean(list(permu_tsne.values()))\n",
    "mean_value_a = np.mean(list(permu_pca.values()))\n",
    "print(f\"On average, we got {mean_value_t} permutations for tsne agaisnt {mean_value_a} for pca\")"
   ]
  }
 ],
 "metadata": {
  "kernelspec": {
   "display_name": "Python 3 (ipykernel)",
   "language": "python",
   "name": "python3"
  },
  "language_info": {
   "codemirror_mode": {
    "name": "ipython",
    "version": 3
   },
   "file_extension": ".py",
   "mimetype": "text/x-python",
   "name": "python",
   "nbconvert_exporter": "python",
   "pygments_lexer": "ipython3",
   "version": "3.11.5"
  }
 },
 "nbformat": 4,
 "nbformat_minor": 5
}
